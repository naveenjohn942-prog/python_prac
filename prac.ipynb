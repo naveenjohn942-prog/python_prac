{
 "cells": [
  {
   "cell_type": "code",
   "execution_count": 4,
   "metadata": {},
   "outputs": [
    {
     "name": "stdout",
     "output_type": "stream",
     "text": [
      "((1, 2, 's'), (3, 4, 'b'))\n"
     ]
    }
   ],
   "source": [
    "u_input=input(\"Enter the values=\")\n",
    "\n",
    "n_value=eval(f\"{u_input}\") \n",
    "print(n_value)\n"
   ]
  },
  {
   "cell_type": "code",
   "execution_count": 11,
   "metadata": {},
   "outputs": [
    {
     "name": "stdout",
     "output_type": "stream",
     "text": [
      "2\n",
      "12\n"
     ]
    }
   ],
   "source": [
    "for i in n_value:\n",
    "    if i[2]=='s':\n",
    "        s_amt=i[0]*i[1] \n",
    "    elif i[2]=='b':\n",
    "        b_amt=i[0]*i[1]\n",
    "print(s_amt)\n",
    "print(b_amt)\n"
   ]
  }
 ],
 "metadata": {
  "kernelspec": {
   "display_name": "Python 3",
   "language": "python",
   "name": "python3"
  },
  "language_info": {
   "codemirror_mode": {
    "name": "ipython",
    "version": 3
   },
   "file_extension": ".py",
   "mimetype": "text/x-python",
   "name": "python",
   "nbconvert_exporter": "python",
   "pygments_lexer": "ipython3",
   "version": "3.10.8"
  },
  "orig_nbformat": 4
 },
 "nbformat": 4,
 "nbformat_minor": 2
}
