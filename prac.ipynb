{
 "cells": [
  {
   "cell_type": "code",
   "execution_count": 9,
   "metadata": {},
   "outputs": [
    {
     "name": "stdout",
     "output_type": "stream",
     "text": [
      "(('xyz', 100, 20, 's'), ('abc', 200, 44, 'b'), ('qwe', 350, 12, 's'), ('rty', 879, 10, 'b'))\n"
     ]
    }
   ],
   "source": [
    "u_input=input(\"Enter the values=\")\n",
    "\n",
    "n_value=eval(f\"{u_input}\") \n",
    "print(n_value)\n"
   ]
  },
  {
   "cell_type": "code",
   "execution_count": 10,
   "metadata": {},
   "outputs": [],
   "source": [
    "s_amt=0\n",
    "b_amt=0\n",
    "sq_amt=0\n",
    "bq_amt=0\n",
    "for i in n_value:\n",
    "    if i[3]=='s':\n",
    "        s_amt=s_amt+(i[2]*i[1])\n",
    "        sq_amt=sq_amt+i[1]\n",
    "    elif i[3]=='b':\n",
    "        b_amt=b_amt+(i[2]*i[1])\n",
    "        bq_amt=bq_amt+i[1]\n",
    "# print(s_amt)\n",
    "# print(b_amt)\n"
   ]
  },
  {
   "cell_type": "code",
   "execution_count": 13,
   "metadata": {},
   "outputs": [
    {
     "name": "stdout",
     "output_type": "stream",
     "text": [
      "{'s_amt': 6200, 'b_amt': 17590, 'sell_quantity': 450, 'buy_quantity': 1079}\n"
     ]
    }
   ],
   "source": [
    "mydict=dict()\n",
    "mydict['s_amt']=s_amt\n",
    "mydict['b_amt']=b_amt\n",
    "mydict['sell_quantity']=sq_amt\n",
    "mydict['buy_quantity']=bq_amt\n",
    "\n",
    "print(mydict)"
   ]
  }
 ],
 "metadata": {
  "kernelspec": {
   "display_name": "Python 3",
   "language": "python",
   "name": "python3"
  },
  "language_info": {
   "codemirror_mode": {
    "name": "ipython",
    "version": 3
   },
   "file_extension": ".py",
   "mimetype": "text/x-python",
   "name": "python",
   "nbconvert_exporter": "python",
   "pygments_lexer": "ipython3",
   "version": "3.10.8"
  },
  "orig_nbformat": 4
 },
 "nbformat": 4,
 "nbformat_minor": 2
}
