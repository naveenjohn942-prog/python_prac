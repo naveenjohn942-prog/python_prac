{
  "cells": [
    {
      "cell_type": "code",
      "execution_count": 4,
      "metadata": {
        "trusted": true
      },
      "outputs": [
        {
          "name": "stdout",
          "output_type": "stream",
          "text": [
            "0    False\n",
            "1    False\n",
            "2     True\n",
            "3    False\n",
            "4    False\n",
            "dtype: bool\n",
            "0     True\n",
            "1     True\n",
            "2    False\n",
            "3     True\n",
            "4     True\n",
            "dtype: bool\n",
            "0    1.0\n",
            "1    2.0\n",
            "3    3.0\n",
            "4    4.0\n",
            "dtype: float64\n",
            "0     1.0\n",
            "1     2.0\n",
            "2    12.0\n",
            "3     3.0\n",
            "4     4.0\n",
            "dtype: float64\n",
            "0    1.0\n",
            "1    2.0\n",
            "2    2.0\n",
            "3    3.0\n",
            "4    4.0\n",
            "dtype: float64\n",
            "0    1.0\n",
            "1    2.0\n",
            "2    3.0\n",
            "3    3.0\n",
            "4    4.0\n",
            "dtype: float64\n"
          ]
        },
        {
          "name": "stderr",
          "output_type": "stream",
          "text": [
            "/tmp/ipykernel_3270/1159819217.py:8: FutureWarning: Series.fillna with 'method' is deprecated and will raise in a future version. Use obj.ffill() or obj.bfill() instead.\n",
            "  print(val1.fillna(method='ffill'))\n",
            "/tmp/ipykernel_3270/1159819217.py:9: FutureWarning: Series.fillna with 'method' is deprecated and will raise in a future version. Use obj.ffill() or obj.bfill() instead.\n",
            "  print(val1.fillna(method='bfill'))\n"
          ]
        }
      ],
      "source": [
        "import pandas as pd\n",
        "import numpy as np\n",
        "val1=pd.Series([1,2,1+np.nan,3,4])\n",
        "print(val1.isnull())\n",
        "print(val1.notnull())\n",
        "print(val1.dropna())\n",
        "print(val1.fillna(12))\n",
        "print(val1.fillna(method='ffill'))\n",
        "print(val1.fillna(method='bfill'))"
      ]
    },
    {
      "cell_type": "code",
      "execution_count": 8,
      "metadata": {
        "trusted": true
      },
      "outputs": [
        {
          "name": "stdout",
          "output_type": "stream",
          "text": [
            "    order                    name  height(cm)\n",
            "0       1       George Washington         189\n",
            "1       2              John Adams         170\n",
            "2       3        Thomas Jefferson         189\n",
            "3       4           James Madison         163\n",
            "4       5            James Monroe         183\n",
            "5       6       John Quincy Adams         171\n",
            "6       7          Andrew Jackson         185\n",
            "7       8        Martin Van Buren         168\n",
            "8       9  William Henry Harrison         173\n",
            "9      10              John Tyler         183\n",
            "10     11           James K. Polk         173\n",
            "11     12          Zachary Taylor         173\n",
            "12     13        Millard Fillmore         175\n",
            "13     14         Franklin Pierce         178\n",
            "14     15          James Buchanan         183\n",
            "15     16         Abraham Lincoln         193\n",
            "16     17          Andrew Johnson         178\n",
            "17     18        Ulysses S. Grant         173\n",
            "18     19     Rutherford B. Hayes         174\n",
            "19     20       James A. Garfield         183\n",
            "20     21       Chester A. Arthur         183\n",
            "21     23       Benjamin Harrison         168\n",
            "22     25        William McKinley         170\n",
            "23     26      Theodore Roosevelt         178\n",
            "24     27     William Howard Taft         182\n",
            "25     28          Woodrow Wilson         180\n",
            "26     29       Warren G. Harding         183\n",
            "27     30         Calvin Coolidge         178\n",
            "28     31          Herbert Hoover         182\n",
            "29     32   Franklin D. Roosevelt         188\n",
            "30     33         Harry S. Truman         175\n",
            "31     34    Dwight D. Eisenhower         179\n",
            "32     35         John F. Kennedy         183\n",
            "33     36       Lyndon B. Johnson         193\n",
            "34     37           Richard Nixon         182\n",
            "35     38             Gerald Ford         183\n",
            "36     39            Jimmy Carter         177\n",
            "37     40           Ronald Reagan         185\n",
            "38     41       George H. W. Bush         188\n",
            "39     42            Bill Clinton         188\n",
            "40     43          George W. Bush         182\n",
            "41     44            Barack Obama         185\n"
          ]
        },
        {
          "name": "stderr",
          "output_type": "stream",
          "text": [
            "/tmp/ipykernel_3270/2504834736.py:7: FutureWarning: DataFrame.fillna with 'method' is deprecated and will raise in a future version. Use obj.ffill() or obj.bfill() instead.\n",
            "  print(missdata.fillna(method='bfill'))\n"
          ]
        }
      ],
      "source": [
        "missdata=pd.read_csv('president_heights1.csv')\n",
        "\n",
        "\n",
        "# print(missdata.dropna())\n",
        "# print(missdata.fillna(12))\n",
        "# print(missdata.fillna(method='ffill'))\n",
        "print(missdata.fillna(method='bfill'))\n",
        "\n",
        "\n"
      ]
    },
    {
      "cell_type": "code",
      "execution_count": null,
      "metadata": {
        "trusted": true
      },
      "outputs": [
        {
          "name": "stdout",
          "output_type": "stream",
          "text": [
            "    order                    name  height(cm)\n",
            "0       1       George Washington       189.0\n",
            "1       2              John Adams       170.0\n",
            "2       3        Thomas Jefferson       189.0\n",
            "3       4           James Madison         NaN\n",
            "4       5            James Monroe       183.0\n",
            "5       6       John Quincy Adams       171.0\n",
            "6       7          Andrew Jackson       185.0\n",
            "7       8        Martin Van Buren       168.0\n",
            "8       9  William Henry Harrison       173.0\n",
            "9      10              John Tyler       183.0\n",
            "10     11           James K. Polk       173.0\n",
            "11     12          Zachary Taylor         NaN\n",
            "12     13        Millard Fillmore       175.0\n",
            "13     14         Franklin Pierce       178.0\n",
            "14     15          James Buchanan         NaN\n",
            "15     16         Abraham Lincoln       193.0\n",
            "16     17          Andrew Johnson       178.0\n",
            "17     18        Ulysses S. Grant       173.0\n",
            "18     19     Rutherford B. Hayes         NaN\n",
            "19     20       James A. Garfield       183.0\n"
          ]
        }
      ],
      "source": [
        "missdata=pd.read_csv('president_heights2.csv')\n",
        "print(missdata.head(20))"
      ]
    },
    {
      "cell_type": "code",
      "execution_count": 7,
      "metadata": {},
      "outputs": [
        {
          "name": "stdout",
          "output_type": "stream",
          "text": [
            "    order   name  height(cm)\n",
            "0   False  False       False\n",
            "1   False  False       False\n",
            "2   False  False       False\n",
            "3   False  False        True\n",
            "4   False  False       False\n",
            "5   False  False       False\n",
            "6   False  False       False\n",
            "7   False  False       False\n",
            "8   False  False       False\n",
            "9   False  False       False\n",
            "10  False  False       False\n",
            "11  False  False        True\n",
            "12  False  False       False\n",
            "13  False  False       False\n",
            "14  False  False        True\n",
            "15  False  False       False\n",
            "16  False  False       False\n",
            "17  False  False       False\n",
            "18  False  False        True\n",
            "19  False  False       False\n",
            "20  False  False       False\n",
            "21  False  False        True\n",
            "22  False  False       False\n",
            "23  False  False       False\n",
            "24  False  False       False\n",
            "25  False  False       False\n",
            "26  False  False       False\n",
            "27  False  False       False\n",
            "28  False  False       False\n",
            "29  False  False       False\n",
            "30  False  False       False\n",
            "31  False  False       False\n",
            "32  False  False       False\n",
            "33  False  False       False\n",
            "34  False  False       False\n",
            "35  False  False       False\n",
            "36  False  False       False\n",
            "37  False  False       False\n",
            "38  False  False       False\n",
            "39  False  False       False\n",
            "40  False  False       False\n",
            "41  False  False       False\n"
          ]
        }
      ],
      "source": [
        "print(missdata.isnull())\n"
      ]
    },
    {
      "cell_type": "code",
      "execution_count": null,
      "metadata": {},
      "outputs": [],
      "source": []
    }
  ],
  "metadata": {
    "kernelspec": {
      "display_name": "Python 3",
      "language": "python",
      "name": "python3"
    },
    "language_info": {
      "codemirror_mode": {
        "name": "ipython",
        "version": 3
      },
      "file_extension": ".py",
      "mimetype": "text/x-python",
      "name": "python",
      "nbconvert_exporter": "python",
      "pygments_lexer": "ipython3",
      "version": "3.10.8"
    }
  },
  "nbformat": 4,
  "nbformat_minor": 4
}
