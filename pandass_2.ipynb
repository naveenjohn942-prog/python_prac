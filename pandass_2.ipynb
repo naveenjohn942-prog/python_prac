{
  "metadata": {
    "language_info": {
      "codemirror_mode": {
        "name": "python",
        "version": 3
      },
      "file_extension": ".py",
      "mimetype": "text/x-python",
      "name": "python",
      "nbconvert_exporter": "python",
      "pygments_lexer": "ipython3",
      "version": "3.8"
    },
    "kernelspec": {
      "name": "python",
      "display_name": "Python (Pyodide)",
      "language": "python"
    }
  },
  "nbformat_minor": 4,
  "nbformat": 4,
  "cells": [
    {
      "cell_type": "code",
      "source": "import pandas as pd\nimport numpy as np\nval1=pd.Series([1,2,1+np.nan,3,4])\nprint(val1.isnull())\nprint(val1.notnull())\nprint(val1.dropna())\nprint(val1.fillna(12))\nprint(val1.fillna(method='ffill'))\nprint(val1.fillna(method='bfill'))",
      "metadata": {
        "trusted": true
      },
      "execution_count": 2,
      "outputs": [
        {
          "name": "stdout",
          "text": "0    False\n1    False\n2     True\n3    False\n4    False\ndtype: bool\n0     True\n1     True\n2    False\n3     True\n4     True\ndtype: bool\n0    1.0\n1    2.0\n3    3.0\n4    4.0\ndtype: float64\n0     1.0\n1     2.0\n2    12.0\n3     3.0\n4     4.0\ndtype: float64\n0    1.0\n1    2.0\n2    2.0\n3    3.0\n4    4.0\ndtype: float64\n0    1.0\n1    2.0\n2    3.0\n3    3.0\n4    4.0\ndtype: float64\n",
          "output_type": "stream"
        }
      ]
    },
    {
      "cell_type": "code",
      "source": "\n\n# print(missdata.dropna())\n# print(missdata.fillna(12))\n# print(missdata.fillna(method='ffill'))\nprint(missdata.fillna(method='bfill'))\n\n\n",
      "metadata": {
        "trusted": true
      },
      "execution_count": 18,
      "outputs": [
        {
          "name": "stdout",
          "text": "    order                    name  height(cm)\n0       1       George Washington       189.0\n1       2              John Adams       170.0\n2       3        Thomas Jefferson       189.0\n3       4           James Madison       183.0\n4       5            James Monroe       183.0\n5       6       John Quincy Adams       171.0\n6       7          Andrew Jackson       185.0\n7       8        Martin Van Buren       168.0\n8       9  William Henry Harrison       173.0\n9      10              John Tyler       183.0\n10     11           James K. Polk       173.0\n11     12          Zachary Taylor       175.0\n12     13        Millard Fillmore       175.0\n13     14         Franklin Pierce       178.0\n14     15          James Buchanan       193.0\n15     16         Abraham Lincoln       193.0\n16     17          Andrew Johnson       178.0\n17     18        Ulysses S. Grant       173.0\n18     19     Rutherford B. Hayes       183.0\n19     20       James A. Garfield       183.0\n20     21       Chester A. Arthur       183.0\n21     23       Benjamin Harrison       170.0\n22     25        William McKinley       170.0\n23     26      Theodore Roosevelt       178.0\n24     27     William Howard Taft       182.0\n25     28          Woodrow Wilson       180.0\n26     29       Warren G. Harding       183.0\n27     30         Calvin Coolidge       178.0\n28     31          Herbert Hoover       182.0\n29     32   Franklin D. Roosevelt       188.0\n30     33         Harry S. Truman       175.0\n31     34    Dwight D. Eisenhower       179.0\n32     35         John F. Kennedy       183.0\n33     36       Lyndon B. Johnson       193.0\n34     37           Richard Nixon       182.0\n35     38             Gerald Ford       183.0\n36     39            Jimmy Carter       177.0\n37     40           Ronald Reagan       185.0\n38     41       George H. W. Bush       188.0\n39     42            Bill Clinton       188.0\n40     43          George W. Bush       182.0\n41     44            Barack Obama       185.0\n",
          "output_type": "stream"
        }
      ]
    },
    {
      "cell_type": "code",
      "source": "missdata=pd.read_csv('president_heights2.csv')\nprint(missdata.head(20))",
      "metadata": {
        "trusted": true
      },
      "execution_count": 7,
      "outputs": [
        {
          "name": "stdout",
          "text": "    order                    name  height(cm)\n0       1       George Washington       189.0\n1       2              John Adams       170.0\n2       3        Thomas Jefferson       189.0\n3       4           James Madison         NaN\n4       5            James Monroe       183.0\n5       6       John Quincy Adams       171.0\n6       7          Andrew Jackson       185.0\n7       8        Martin Van Buren       168.0\n8       9  William Henry Harrison       173.0\n9      10              John Tyler       183.0\n10     11           James K. Polk       173.0\n11     12          Zachary Taylor         NaN\n12     13        Millard Fillmore       175.0\n13     14         Franklin Pierce       178.0\n14     15          James Buchanan         NaN\n15     16         Abraham Lincoln       193.0\n16     17          Andrew Johnson       178.0\n17     18        Ulysses S. Grant       173.0\n18     19     Rutherford B. Hayes         NaN\n19     20       James A. Garfield       183.0\n",
          "output_type": "stream"
        }
      ]
    },
    {
      "cell_type": "code",
      "source": "",
      "metadata": {},
      "execution_count": null,
      "outputs": [
        {
          "name": "stdout",
          "text": "    order  name  height(cm)\n0    True  True        True\n1    True  True        True\n2    True  True        True\n3    True  True       False\n4    True  True        True\n5    True  True        True\n6    True  True        True\n7    True  True        True\n8    True  True        True\n9    True  True        True\n10   True  True        True\n11   True  True       False\n12   True  True        True\n13   True  True        True\n14   True  True       False\n15   True  True        True\n16   True  True        True\n17   True  True        True\n18   True  True       False\n19   True  True        True\n20   True  True        True\n21   True  True       False\n22   True  True        True\n23   True  True        True\n24   True  True        True\n25   True  True        True\n26   True  True        True\n27   True  True        True\n28   True  True        True\n29   True  True        True\n30   True  True        True\n31   True  True        True\n32   True  True        True\n33   True  True        True\n34   True  True        True\n35   True  True        True\n36   True  True        True\n37   True  True        True\n38   True  True        True\n39   True  True        True\n40   True  True        True\n41   True  True        True\n",
          "output_type": "stream"
        }
      ]
    },
    {
      "cell_type": "code",
      "source": "print(missdata.isnull())\n",
      "metadata": {},
      "execution_count": null,
      "outputs": [
        {
          "name": "stdout",
          "text": "    order   name  height(cm)\n0   False  False       False\n1   False  False       False\n2   False  False       False\n3   False  False        True\n4   False  False       False\n5   False  False       False\n6   False  False       False\n7   False  False       False\n8   False  False       False\n9   False  False       False\n10  False  False       False\n11  False  False        True\n12  False  False       False\n13  False  False       False\n14  False  False        True\n15  False  False       False\n16  False  False       False\n17  False  False       False\n18  False  False        True\n19  False  False       False\n20  False  False       False\n21  False  False        True\n22  False  False       False\n23  False  False       False\n24  False  False       False\n25  False  False       False\n26  False  False       False\n27  False  False       False\n28  False  False       False\n29  False  False       False\n30  False  False       False\n31  False  False       False\n32  False  False       False\n33  False  False       False\n34  False  False       False\n35  False  False       False\n36  False  False       False\n37  False  False       False\n38  False  False       False\n39  False  False       False\n40  False  False       False\n41  False  False       False\n",
          "output_type": "stream"
        }
      ]
    }
  ]
}