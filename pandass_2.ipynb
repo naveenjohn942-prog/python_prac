{
  "cells": [
    {
      "cell_type": "code",
      "execution_count": 2,
      "metadata": {
        "trusted": true
      },
      "outputs": [
        {
          "name": "stdout",
          "output_type": "stream",
          "text": [
            "0    False\n",
            "1    False\n",
            "2     True\n",
            "3    False\n",
            "4    False\n",
            "dtype: bool\n",
            "0     True\n",
            "1     True\n",
            "2    False\n",
            "3     True\n",
            "4     True\n",
            "dtype: bool\n",
            "0    1.0\n",
            "1    2.0\n",
            "3    3.0\n",
            "4    4.0\n",
            "dtype: float64\n",
            "0     1.0\n",
            "1     2.0\n",
            "2    12.0\n",
            "3     3.0\n",
            "4     4.0\n",
            "dtype: float64\n",
            "0    1.0\n",
            "1    2.0\n",
            "2    2.0\n",
            "3    3.0\n",
            "4    4.0\n",
            "dtype: float64\n",
            "0    1.0\n",
            "1    2.0\n",
            "2    3.0\n",
            "3    3.0\n",
            "4    4.0\n",
            "dtype: float64\n"
          ]
        },
        {
          "name": "stderr",
          "output_type": "stream",
          "text": [
            "/tmp/ipykernel_1072/1159819217.py:8: FutureWarning: Series.fillna with 'method' is deprecated and will raise in a future version. Use obj.ffill() or obj.bfill() instead.\n",
            "  print(val1.fillna(method='ffill'))\n",
            "/tmp/ipykernel_1072/1159819217.py:9: FutureWarning: Series.fillna with 'method' is deprecated and will raise in a future version. Use obj.ffill() or obj.bfill() instead.\n",
            "  print(val1.fillna(method='bfill'))\n"
          ]
        }
      ],
      "source": [
        "import pandas as pd\n",
        "import numpy as np\n",
        "val1=pd.Series([1,2,1+np.nan,3,4])\n",
        "print(val1.isnull())\n",
        "print(val1.notnull())\n",
        "print(val1.dropna())\n",
        "print(val1.fillna(12))\n",
        "print(val1.fillna(method='ffill'))\n",
        "print(val1.fillna(method='bfill'))"
      ]
    },
    {
      "cell_type": "code",
      "execution_count": 3,
      "metadata": {
        "trusted": true
      },
      "outputs": [
        {
          "name": "stdout",
          "output_type": "stream",
          "text": [
            "    order                    name  height(cm)\n",
            "0       1       George Washington         189\n",
            "1       2              John Adams         170\n",
            "2       3        Thomas Jefferson         189\n",
            "3       4           James Madison         163\n",
            "4       5            James Monroe         183\n",
            "5       6       John Quincy Adams         171\n",
            "6       7          Andrew Jackson         185\n",
            "7       8        Martin Van Buren         168\n",
            "8       9  William Henry Harrison         173\n",
            "9      10              John Tyler         183\n",
            "10     11           James K. Polk         173\n",
            "11     12          Zachary Taylor         173\n",
            "12     13        Millard Fillmore         175\n",
            "13     14         Franklin Pierce         178\n",
            "14     15          James Buchanan         183\n",
            "15     16         Abraham Lincoln         193\n",
            "16     17          Andrew Johnson         178\n",
            "17     18        Ulysses S. Grant         173\n",
            "18     19     Rutherford B. Hayes         174\n",
            "19     20       James A. Garfield         183\n",
            "20     21       Chester A. Arthur         183\n",
            "21     23       Benjamin Harrison         168\n",
            "22     25        William McKinley         170\n",
            "23     26      Theodore Roosevelt         178\n",
            "24     27     William Howard Taft         182\n",
            "25     28          Woodrow Wilson         180\n",
            "26     29       Warren G. Harding         183\n",
            "27     30         Calvin Coolidge         178\n",
            "28     31          Herbert Hoover         182\n",
            "29     32   Franklin D. Roosevelt         188\n",
            "30     33         Harry S. Truman         175\n",
            "31     34    Dwight D. Eisenhower         179\n",
            "32     35         John F. Kennedy         183\n",
            "33     36       Lyndon B. Johnson         193\n",
            "34     37           Richard Nixon         182\n",
            "35     38             Gerald Ford         183\n",
            "36     39            Jimmy Carter         177\n",
            "37     40           Ronald Reagan         185\n",
            "38     41       George H. W. Bush         188\n",
            "39     42            Bill Clinton         188\n",
            "40     43          George W. Bush         182\n",
            "41     44            Barack Obama         185\n"
          ]
        },
        {
          "name": "stderr",
          "output_type": "stream",
          "text": [
            "/tmp/ipykernel_1072/2504834736.py:7: FutureWarning: DataFrame.fillna with 'method' is deprecated and will raise in a future version. Use obj.ffill() or obj.bfill() instead.\n",
            "  print(missdata.fillna(method='bfill'))\n"
          ]
        }
      ],
      "source": [
        "missdata=pd.read_csv('president_heights1.csv')\n",
        "\n",
        "\n",
        "# print(missdata.dropna())\n",
        "# print(missdata.fillna(12))\n",
        "# print(missdata.fillna(method='ffill'))\n",
        "print(missdata.fillna(method='bfill'))\n",
        "\n",
        "\n"
      ]
    },
    {
      "cell_type": "code",
      "execution_count": 4,
      "metadata": {
        "trusted": true
      },
      "outputs": [
        {
          "name": "stdout",
          "output_type": "stream",
          "text": [
            "    order                    name  height(cm)\n",
            "0       1       George Washington       189.0\n",
            "1       2              John Adams       170.0\n",
            "2       3        Thomas Jefferson       189.0\n",
            "3       4           James Madison         NaN\n",
            "4       5            James Monroe       183.0\n",
            "5       6       John Quincy Adams       171.0\n",
            "6       7          Andrew Jackson       185.0\n",
            "7       8        Martin Van Buren       168.0\n",
            "8       9  William Henry Harrison       173.0\n",
            "9      10              John Tyler       183.0\n",
            "10     11           James K. Polk       173.0\n",
            "11     12          Zachary Taylor         NaN\n",
            "12     13        Millard Fillmore       175.0\n",
            "13     14         Franklin Pierce       178.0\n",
            "14     15          James Buchanan         NaN\n",
            "15     16         Abraham Lincoln       193.0\n",
            "16     17          Andrew Johnson       178.0\n",
            "17     18        Ulysses S. Grant       173.0\n",
            "18     19     Rutherford B. Hayes         NaN\n",
            "19     20       James A. Garfield       183.0\n"
          ]
        }
      ],
      "source": [
        "missdata=pd.read_csv('president_heights2.csv')\n",
        "print(missdata.head(20))"
      ]
    },
    {
      "cell_type": "code",
      "execution_count": 5,
      "metadata": {},
      "outputs": [
        {
          "name": "stdout",
          "output_type": "stream",
          "text": [
            "    order   name  height(cm)\n",
            "0   False  False       False\n",
            "1   False  False       False\n",
            "2   False  False       False\n",
            "3   False  False        True\n",
            "4   False  False       False\n",
            "5   False  False       False\n",
            "6   False  False       False\n",
            "7   False  False       False\n",
            "8   False  False       False\n",
            "9   False  False       False\n",
            "10  False  False       False\n",
            "11  False  False        True\n",
            "12  False  False       False\n",
            "13  False  False       False\n",
            "14  False  False        True\n",
            "15  False  False       False\n",
            "16  False  False       False\n",
            "17  False  False       False\n",
            "18  False  False        True\n",
            "19  False  False       False\n",
            "20  False  False       False\n",
            "21  False  False        True\n",
            "22  False  False       False\n",
            "23  False  False       False\n",
            "24  False  False       False\n",
            "25  False  False       False\n",
            "26  False  False       False\n",
            "27  False  False       False\n",
            "28  False  False       False\n",
            "29  False  False       False\n",
            "30  False  False       False\n",
            "31  False  False       False\n",
            "32  False  False       False\n",
            "33  False  False       False\n",
            "34  False  False       False\n",
            "35  False  False       False\n",
            "36  False  False       False\n",
            "37  False  False       False\n",
            "38  False  False       False\n",
            "39  False  False       False\n",
            "40  False  False       False\n",
            "41  False  False       False\n"
          ]
        }
      ],
      "source": [
        "print(missdata.isnull())\n"
      ]
    },
    {
      "cell_type": "code",
      "execution_count": 7,
      "metadata": {},
      "outputs": [
        {
          "name": "stdout",
          "output_type": "stream",
          "text": [
            "<class 'pandas.core.frame.DataFrame'>\n",
            "RangeIndex: 200 entries, 0 to 199\n",
            "Data columns (total 7 columns):\n",
            " #   Column  Non-Null Count  Dtype \n",
            "---  ------  --------------  ----- \n",
            " 0   AGE     200 non-null    int64 \n",
            " 1   HEIGHT  200 non-null    int64 \n",
            " 2   WEIGHT  200 non-null    int64 \n",
            " 3   CHOL    200 non-null    int64 \n",
            " 4   SMOKE   200 non-null    object\n",
            " 5   BLOOD   200 non-null    object\n",
            " 6   MORT    200 non-null    object\n",
            "dtypes: int64(4), object(3)\n",
            "memory usage: 11.1+ KB\n"
          ]
        }
      ],
      "source": [
        "#Hierarchical indices\n",
        "data = pd.read_csv('Q8_MortalityDataset.csv')\n",
        "data.info()"
      ]
    },
    {
      "cell_type": "code",
      "execution_count": 9,
      "metadata": {},
      "outputs": [
        {
          "data": {
            "text/html": [
              "<div>\n",
              "<style scoped>\n",
              "    .dataframe tbody tr th:only-of-type {\n",
              "        vertical-align: middle;\n",
              "    }\n",
              "\n",
              "    .dataframe tbody tr th {\n",
              "        vertical-align: top;\n",
              "    }\n",
              "\n",
              "    .dataframe thead th {\n",
              "        text-align: right;\n",
              "    }\n",
              "</style>\n",
              "<table border=\"1\" class=\"dataframe\">\n",
              "  <thead>\n",
              "    <tr style=\"text-align: right;\">\n",
              "      <th></th>\n",
              "      <th>AGE</th>\n",
              "      <th>HEIGHT</th>\n",
              "      <th>WEIGHT</th>\n",
              "      <th>CHOL</th>\n",
              "    </tr>\n",
              "  </thead>\n",
              "  <tbody>\n",
              "    <tr>\n",
              "      <th>count</th>\n",
              "      <td>200.000000</td>\n",
              "      <td>200.00000</td>\n",
              "      <td>200.000000</td>\n",
              "      <td>200.000000</td>\n",
              "    </tr>\n",
              "    <tr>\n",
              "      <th>mean</th>\n",
              "      <td>35.715000</td>\n",
              "      <td>172.35000</td>\n",
              "      <td>75.885000</td>\n",
              "      <td>233.600000</td>\n",
              "    </tr>\n",
              "    <tr>\n",
              "      <th>std</th>\n",
              "      <td>9.604426</td>\n",
              "      <td>6.77399</td>\n",
              "      <td>10.442076</td>\n",
              "      <td>44.766732</td>\n",
              "    </tr>\n",
              "    <tr>\n",
              "      <th>min</th>\n",
              "      <td>18.000000</td>\n",
              "      <td>156.00000</td>\n",
              "      <td>53.000000</td>\n",
              "      <td>107.000000</td>\n",
              "    </tr>\n",
              "    <tr>\n",
              "      <th>25%</th>\n",
              "      <td>28.750000</td>\n",
              "      <td>168.00000</td>\n",
              "      <td>68.750000</td>\n",
              "      <td>204.000000</td>\n",
              "    </tr>\n",
              "    <tr>\n",
              "      <th>50%</th>\n",
              "      <td>37.000000</td>\n",
              "      <td>172.00000</td>\n",
              "      <td>75.000000</td>\n",
              "      <td>232.000000</td>\n",
              "    </tr>\n",
              "    <tr>\n",
              "      <th>75%</th>\n",
              "      <td>42.000000</td>\n",
              "      <td>176.00000</td>\n",
              "      <td>82.000000</td>\n",
              "      <td>259.000000</td>\n",
              "    </tr>\n",
              "    <tr>\n",
              "      <th>max</th>\n",
              "      <td>58.000000</td>\n",
              "      <td>191.00000</td>\n",
              "      <td>110.000000</td>\n",
              "      <td>455.000000</td>\n",
              "    </tr>\n",
              "  </tbody>\n",
              "</table>\n",
              "</div>"
            ],
            "text/plain": [
              "              AGE     HEIGHT      WEIGHT        CHOL\n",
              "count  200.000000  200.00000  200.000000  200.000000\n",
              "mean    35.715000  172.35000   75.885000  233.600000\n",
              "std      9.604426    6.77399   10.442076   44.766732\n",
              "min     18.000000  156.00000   53.000000  107.000000\n",
              "25%     28.750000  168.00000   68.750000  204.000000\n",
              "50%     37.000000  172.00000   75.000000  232.000000\n",
              "75%     42.000000  176.00000   82.000000  259.000000\n",
              "max     58.000000  191.00000  110.000000  455.000000"
            ]
          },
          "execution_count": 9,
          "metadata": {},
          "output_type": "execute_result"
        }
      ],
      "source": [
        "data.describe()"
      ]
    },
    {
      "cell_type": "code",
      "execution_count": 12,
      "metadata": {},
      "outputs": [
        {
          "data": {
            "text/plain": [
              "(200, 7)"
            ]
          },
          "execution_count": 12,
          "metadata": {},
          "output_type": "execute_result"
        }
      ],
      "source": [
        "data.shape\n",
        "#numbers of rows and column"
      ]
    },
    {
      "cell_type": "code",
      "execution_count": 14,
      "metadata": {},
      "outputs": [
        {
          "name": "stdout",
          "output_type": "stream",
          "text": [
            "     AGE  HEIGHT  WEIGHT  CHOL   SMOKE BLOOD   MORT\n",
            "37    34     172      71   217  sigare     o  alive\n",
            "134   30     171      72   247    pipe     o  alive\n",
            "159   40     170      81   206  sigare     o  alive\n",
            "56    30     170      74   205  sigare     o  alive\n",
            "109   36     170      81   190  nonsmo     o   dead\n",
            "198   39     165      74   259  sigare     o  alive\n",
            "174   20     177      81   230  nonsmo     o  alive\n",
            "17    30     181      74   191  nonsmo     a  alive\n",
            "110   40     183      73   178  sigare     b  alive\n",
            "86    23     181      70   232    pipe     o  alive\n"
          ]
        }
      ],
      "source": [
        "morsample=data.sample(n=10)\n",
        "print(morsample)"
      ]
    },
    {
      "cell_type": "code",
      "execution_count": 16,
      "metadata": {},
      "outputs": [
        {
          "data": {
            "text/plain": [
              "AGE           34\n",
              "HEIGHT       172\n",
              "WEIGHT        71\n",
              "CHOL         217\n",
              "SMOKE     sigare\n",
              "BLOOD          o\n",
              "MORT       alive\n",
              "Name: 37, dtype: object"
            ]
          },
          "execution_count": 16,
          "metadata": {},
          "output_type": "execute_result"
        }
      ],
      "source": [
        "morsample.iloc[0]"
      ]
    },
    {
      "cell_type": "code",
      "execution_count": 18,
      "metadata": {},
      "outputs": [
        {
          "data": {
            "text/html": [
              "<div>\n",
              "<style scoped>\n",
              "    .dataframe tbody tr th:only-of-type {\n",
              "        vertical-align: middle;\n",
              "    }\n",
              "\n",
              "    .dataframe tbody tr th {\n",
              "        vertical-align: top;\n",
              "    }\n",
              "\n",
              "    .dataframe thead th {\n",
              "        text-align: right;\n",
              "    }\n",
              "</style>\n",
              "<table border=\"1\" class=\"dataframe\">\n",
              "  <thead>\n",
              "    <tr style=\"text-align: right;\">\n",
              "      <th></th>\n",
              "      <th>HEIGHT</th>\n",
              "      <th>WEIGHT</th>\n",
              "    </tr>\n",
              "  </thead>\n",
              "  <tbody>\n",
              "    <tr>\n",
              "      <th>109</th>\n",
              "      <td>170</td>\n",
              "      <td>81</td>\n",
              "    </tr>\n",
              "    <tr>\n",
              "      <th>198</th>\n",
              "      <td>165</td>\n",
              "      <td>74</td>\n",
              "    </tr>\n",
              "    <tr>\n",
              "      <th>174</th>\n",
              "      <td>177</td>\n",
              "      <td>81</td>\n",
              "    </tr>\n",
              "    <tr>\n",
              "      <th>17</th>\n",
              "      <td>181</td>\n",
              "      <td>74</td>\n",
              "    </tr>\n",
              "  </tbody>\n",
              "</table>\n",
              "</div>"
            ],
            "text/plain": [
              "     HEIGHT  WEIGHT\n",
              "109     170      81\n",
              "198     165      74\n",
              "174     177      81\n",
              "17      181      74"
            ]
          },
          "execution_count": 18,
          "metadata": {},
          "output_type": "execute_result"
        }
      ],
      "source": [
        "morsample.iloc[4:8,1:3]\n"
      ]
    },
    {
      "cell_type": "code",
      "execution_count": 20,
      "metadata": {},
      "outputs": [
        {
          "data": {
            "text/html": [
              "<div>\n",
              "<style scoped>\n",
              "    .dataframe tbody tr th:only-of-type {\n",
              "        vertical-align: middle;\n",
              "    }\n",
              "\n",
              "    .dataframe tbody tr th {\n",
              "        vertical-align: top;\n",
              "    }\n",
              "\n",
              "    .dataframe thead th {\n",
              "        text-align: right;\n",
              "    }\n",
              "</style>\n",
              "<table border=\"1\" class=\"dataframe\">\n",
              "  <thead>\n",
              "    <tr style=\"text-align: right;\">\n",
              "      <th></th>\n",
              "      <th>AGE</th>\n",
              "      <th>HEIGHT</th>\n",
              "      <th>WEIGHT</th>\n",
              "      <th>CHOL</th>\n",
              "      <th>SMOKE</th>\n",
              "      <th>BLOOD</th>\n",
              "      <th>MORT</th>\n",
              "    </tr>\n",
              "  </thead>\n",
              "  <tbody>\n",
              "    <tr>\n",
              "      <th>37</th>\n",
              "      <td>34</td>\n",
              "      <td>172</td>\n",
              "      <td>71</td>\n",
              "      <td>217</td>\n",
              "      <td>sigare</td>\n",
              "      <td>o</td>\n",
              "      <td>alive</td>\n",
              "    </tr>\n",
              "    <tr>\n",
              "      <th>134</th>\n",
              "      <td>30</td>\n",
              "      <td>171</td>\n",
              "      <td>72</td>\n",
              "      <td>247</td>\n",
              "      <td>pipe</td>\n",
              "      <td>o</td>\n",
              "      <td>alive</td>\n",
              "    </tr>\n",
              "  </tbody>\n",
              "</table>\n",
              "</div>"
            ],
            "text/plain": [
              "     AGE  HEIGHT  WEIGHT  CHOL   SMOKE BLOOD   MORT\n",
              "37    34     172      71   217  sigare     o  alive\n",
              "134   30     171      72   247    pipe     o  alive"
            ]
          },
          "execution_count": 20,
          "metadata": {},
          "output_type": "execute_result"
        }
      ],
      "source": [
        "morsample.iloc[[0,1]]"
      ]
    },
    {
      "cell_type": "code",
      "execution_count": 22,
      "metadata": {},
      "outputs": [
        {
          "data": {
            "text/html": [
              "<div>\n",
              "<style scoped>\n",
              "    .dataframe tbody tr th:only-of-type {\n",
              "        vertical-align: middle;\n",
              "    }\n",
              "\n",
              "    .dataframe tbody tr th {\n",
              "        vertical-align: top;\n",
              "    }\n",
              "\n",
              "    .dataframe thead th {\n",
              "        text-align: right;\n",
              "    }\n",
              "</style>\n",
              "<table border=\"1\" class=\"dataframe\">\n",
              "  <thead>\n",
              "    <tr style=\"text-align: right;\">\n",
              "      <th></th>\n",
              "      <th></th>\n",
              "      <th></th>\n",
              "      <th>AGE</th>\n",
              "      <th>HEIGHT</th>\n",
              "      <th>WEIGHT</th>\n",
              "      <th>CHOL</th>\n",
              "    </tr>\n",
              "    <tr>\n",
              "      <th>SMOKE</th>\n",
              "      <th>BLOOD</th>\n",
              "      <th>MORT</th>\n",
              "      <th></th>\n",
              "      <th></th>\n",
              "      <th></th>\n",
              "      <th></th>\n",
              "    </tr>\n",
              "  </thead>\n",
              "  <tbody>\n",
              "    <tr>\n",
              "      <th rowspan=\"3\" valign=\"top\">nonsmo</th>\n",
              "      <th>a</th>\n",
              "      <th>alive</th>\n",
              "      <td>30.00</td>\n",
              "      <td>181.00</td>\n",
              "      <td>74.0</td>\n",
              "      <td>191.00</td>\n",
              "    </tr>\n",
              "    <tr>\n",
              "      <th rowspan=\"2\" valign=\"top\">o</th>\n",
              "      <th>alive</th>\n",
              "      <td>20.00</td>\n",
              "      <td>177.00</td>\n",
              "      <td>81.0</td>\n",
              "      <td>230.00</td>\n",
              "    </tr>\n",
              "    <tr>\n",
              "      <th>dead</th>\n",
              "      <td>36.00</td>\n",
              "      <td>170.00</td>\n",
              "      <td>81.0</td>\n",
              "      <td>190.00</td>\n",
              "    </tr>\n",
              "    <tr>\n",
              "      <th>pipe</th>\n",
              "      <th>o</th>\n",
              "      <th>alive</th>\n",
              "      <td>26.50</td>\n",
              "      <td>176.00</td>\n",
              "      <td>71.0</td>\n",
              "      <td>239.50</td>\n",
              "    </tr>\n",
              "    <tr>\n",
              "      <th rowspan=\"2\" valign=\"top\">sigare</th>\n",
              "      <th>b</th>\n",
              "      <th>alive</th>\n",
              "      <td>40.00</td>\n",
              "      <td>183.00</td>\n",
              "      <td>73.0</td>\n",
              "      <td>178.00</td>\n",
              "    </tr>\n",
              "    <tr>\n",
              "      <th>o</th>\n",
              "      <th>alive</th>\n",
              "      <td>35.75</td>\n",
              "      <td>169.25</td>\n",
              "      <td>75.0</td>\n",
              "      <td>221.75</td>\n",
              "    </tr>\n",
              "  </tbody>\n",
              "</table>\n",
              "</div>"
            ],
            "text/plain": [
              "                      AGE  HEIGHT  WEIGHT    CHOL\n",
              "SMOKE  BLOOD MORT                                \n",
              "nonsmo a     alive  30.00  181.00    74.0  191.00\n",
              "       o     alive  20.00  177.00    81.0  230.00\n",
              "             dead   36.00  170.00    81.0  190.00\n",
              "pipe   o     alive  26.50  176.00    71.0  239.50\n",
              "sigare b     alive  40.00  183.00    73.0  178.00\n",
              "       o     alive  35.75  169.25    75.0  221.75"
            ]
          },
          "execution_count": 22,
          "metadata": {},
          "output_type": "execute_result"
        }
      ],
      "source": [
        "morh=morsample.groupby(['SMOKE','BLOOD','MORT']).mean()\n",
        "morh"
      ]
    },
    {
      "cell_type": "code",
      "execution_count": 24,
      "metadata": {},
      "outputs": [
        {
          "data": {
            "text/plain": [
              "SMOKE   BLOOD  MORT \n",
              "nonsmo  a      alive    1\n",
              "        o      alive    1\n",
              "               dead     1\n",
              "pipe    o      alive    2\n",
              "sigare  b      alive    1\n",
              "        o      alive    4\n",
              "dtype: int64"
            ]
          },
          "execution_count": 24,
          "metadata": {},
          "output_type": "execute_result"
        }
      ],
      "source": [
        "morh=morsample.groupby(['SMOKE','BLOOD','MORT']).size()\n",
        "morh"
      ]
    }
  ],
  "metadata": {
    "kernelspec": {
      "display_name": "Python 3",
      "language": "python",
      "name": "python3"
    },
    "language_info": {
      "codemirror_mode": {
        "name": "ipython",
        "version": 3
      },
      "file_extension": ".py",
      "mimetype": "text/x-python",
      "name": "python",
      "nbconvert_exporter": "python",
      "pygments_lexer": "ipython3",
      "version": "3.10.8"
    }
  },
  "nbformat": 4,
  "nbformat_minor": 4
}
