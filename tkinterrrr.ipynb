{
 "cells": [
  {
   "cell_type": "code",
   "execution_count": 5,
   "metadata": {},
   "outputs": [
    {
     "ename": "TclError",
     "evalue": "no display name and no $DISPLAY environment variable",
     "output_type": "error",
     "traceback": [
      "\u001b[0;31m---------------------------------------------------------------------------\u001b[0m",
      "\u001b[0;31mTclError\u001b[0m                                  Traceback (most recent call last)",
      "Cell \u001b[0;32mIn[5], line 2\u001b[0m\n\u001b[1;32m      1\u001b[0m \u001b[39mfrom\u001b[39;00m \u001b[39mtkinter\u001b[39;00m \u001b[39mimport\u001b[39;00m \u001b[39m*\u001b[39m\n\u001b[0;32m----> 2\u001b[0m top\u001b[39m=\u001b[39mTk()\n\u001b[1;32m      3\u001b[0m top\u001b[39m.\u001b[39mtitle(\u001b[39m\"\u001b[39m\u001b[39mmy first TKinter Window\u001b[39m\u001b[39m\"\u001b[39m)\n\u001b[1;32m      4\u001b[0m top\u001b[39m.\u001b[39mgeometry(\u001b[39m'\u001b[39m\u001b[39m350x200\u001b[39m\u001b[39m'\u001b[39m)\n",
      "File \u001b[0;32m~/.python/current/lib/python3.10/tkinter/__init__.py:2299\u001b[0m, in \u001b[0;36mTk.__init__\u001b[0;34m(self, screenName, baseName, className, useTk, sync, use)\u001b[0m\n\u001b[1;32m   2297\u001b[0m         baseName \u001b[39m=\u001b[39m baseName \u001b[39m+\u001b[39m ext\n\u001b[1;32m   2298\u001b[0m interactive \u001b[39m=\u001b[39m \u001b[39mFalse\u001b[39;00m\n\u001b[0;32m-> 2299\u001b[0m \u001b[39mself\u001b[39m\u001b[39m.\u001b[39mtk \u001b[39m=\u001b[39m _tkinter\u001b[39m.\u001b[39;49mcreate(screenName, baseName, className, interactive, wantobjects, useTk, sync, use)\n\u001b[1;32m   2300\u001b[0m \u001b[39mif\u001b[39;00m useTk:\n\u001b[1;32m   2301\u001b[0m     \u001b[39mself\u001b[39m\u001b[39m.\u001b[39m_loadtk()\n",
      "\u001b[0;31mTclError\u001b[0m: no display name and no $DISPLAY environment variable"
     ]
    }
   ],
   "source": [
    "from tkinter import *\n",
    "top=Tk()\n",
    "top.title(\"my first TKinter Window\")\n",
    "top.geometry('350x200')\n",
    "label=Label(text=\"hello,Tkinder\",\n",
    "    foreground=\"red\",\n",
    "    background=\"black\",\n",
    "    width=20,\n",
    "    height=10)\n",
    "label.place(x=19,y=160)\n",
    "label.grid()\n",
    "top.mainloop()"
   ]
  },
  {
   "cell_type": "code",
   "execution_count": 6,
   "metadata": {},
   "outputs": [
    {
     "ename": "NameError",
     "evalue": "name 'top' is not defined",
     "output_type": "error",
     "traceback": [
      "\u001b[0;31m---------------------------------------------------------------------------\u001b[0m",
      "\u001b[0;31mNameError\u001b[0m                                 Traceback (most recent call last)",
      "Cell \u001b[0;32mIn[6], line 1\u001b[0m\n\u001b[0;32m----> 1\u001b[0m top\u001b[39m.\u001b[39mtitle(\u001b[39m\"\u001b[39m\u001b[39mRegisteration Form\u001b[39m\u001b[39m\"\u001b[39m)\n\u001b[1;32m      2\u001b[0m top\u001b[39m.\u001b[39mgeometry(\u001b[39m'\u001b[39m\u001b[39m500x600\u001b[39m\u001b[39m'\u001b[39m)\n\u001b[1;32m      3\u001b[0m label1\u001b[39m=\u001b[39mLabel(text\u001b[39m=\u001b[39m\u001b[39m\"\u001b[39m\u001b[39mEnter Name\u001b[39m\u001b[39m\"\u001b[39m,\n\u001b[1;32m      4\u001b[0m     \n\u001b[1;32m      5\u001b[0m     width\u001b[39m=\u001b[39m\u001b[39m20\u001b[39m,\n\u001b[1;32m      6\u001b[0m     height\u001b[39m=\u001b[39m\u001b[39m10\u001b[39m)\n",
      "\u001b[0;31mNameError\u001b[0m: name 'top' is not defined"
     ]
    }
   ],
   "source": [
    "top.title(\"Registeration Form\")\n",
    "top.geometry('500x600')\n",
    "label1=Label(text=\"Enter Name\",\n",
    "    \n",
    "    width=20,\n",
    "    height=10)\n",
    "label2=Label(text=\"Enter Email\",\n",
    "    \n",
    "    width=20,\n",
    "    height=10)\n",
    "label3=Label(text=\"contact Number\",\n",
    "    \n",
    "    width=20,\n",
    "    height=10)\n",
    "label4=Label(text=\"Select Gender\",\n",
    "    \n",
    "    width=20,\n",
    "    height=10)\n",
    "label5=Label(text=\"Select country\",\n",
    "    \n",
    "    width=20,\n",
    "    height=10)\n",
    "label6=Label(text=\"Enter Password\",\n",
    "    \n",
    "    width=20,\n",
    "    height=10)\n",
    "label7=Label(text=\"re-Enter Password\",\n",
    "    \n",
    "    width=20,\n",
    "    height=10)\n",
    "label1.place(x=19,y=160)\n",
    "label2.place(x=19,y=160)\n",
    "label3.place(x=19,y=160)\n",
    "label4.place(x=19,y=160)\n",
    "label5.place(x=19,y=160)\n",
    "label6.place(x=19,y=160)\n",
    "label7.place(x=19,y=160)\n",
    "\n",
    "\n",
    "top.mainloop()"
   ]
  }
 ],
 "metadata": {
  "kernelspec": {
   "display_name": "Python 3",
   "language": "python",
   "name": "python3"
  },
  "language_info": {
   "codemirror_mode": {
    "name": "ipython",
    "version": 3
   },
   "file_extension": ".py",
   "mimetype": "text/x-python",
   "name": "python",
   "nbconvert_exporter": "python",
   "pygments_lexer": "ipython3",
   "version": "3.10.8"
  },
  "orig_nbformat": 4
 },
 "nbformat": 4,
 "nbformat_minor": 2
}
