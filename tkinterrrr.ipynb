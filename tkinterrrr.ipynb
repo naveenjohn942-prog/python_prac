{
 "cells": [
  {
   "cell_type": "code",
   "execution_count": 2,
   "metadata": {},
   "outputs": [],
   "source": [
    "from tkinter import *\n",
    "top=Tk()\n",
    "top.title(\"my first TKinter Window\")\n",
    "top.geometry('350x200')\n",
    "label=Label(text=\"hello,Tkinder\",\n",
    "    foreground=\"red\",\n",
    "    background=\"black\",\n",
    "    width=20,\n",
    "    height=10)\n",
    "label.place(x=19,y=160)\n",
    "label.grid()\n",
    "top.mainloop()"
   ]
  },
  {
   "cell_type": "code",
   "execution_count": 12,
   "metadata": {},
   "outputs": [],
   "source": [
    "from tkinter import Tk, Label, Entry\n",
    "\n",
    "top = Tk()\n",
    "top.title(\"Registration Form\")\n",
    "top.geometry('500x600')\n",
    "\n",
    "label1 = Label(top, text=\"Enter Name\", width=20)\n",
    "label2 = Label(top, text=\"Enter Email\", width=20)\n",
    "label3 = Label(top, text=\"Contact Number\", width=20)\n",
    "label4 = Label(top, text=\"Select Gender\", width=20)\n",
    "label5 = Label(top, text=\"Select Country\", width=20)\n",
    "label6 = Label(top, text=\"Enter Password\", width=20)\n",
    "label7 = Label(top, text=\"Re-Enter Password\", width=20)\n",
    "\n",
    "entry1 = Entry(top)\n",
    "entry2 = Entry(top)\n",
    "entry3 = Entry(top)\n",
    "entry4 = Entry(top)\n",
    "entry5 = Entry(top)\n",
    "entry6 = Entry(top)\n",
    "entry7 = Entry(top)\n",
    "\n",
    "label1.place(x=19, y=60)\n",
    "entry1.place(x=200, y=60)\n",
    "label2.place(x=19, y=100)\n",
    "entry2.place(x=200, y=100)\n",
    "label3.place(x=19, y=140)\n",
    "entry3.place(x=200, y=140)\n",
    "label4.place(x=19, y=180)\n",
    "entry4.place(x=200, y=180)\n",
    "label5.place(x=19, y=220)\n",
    "entry5.place(x=200, y=220)\n",
    "label6.place(x=19, y=260)\n",
    "entry6.place(x=200, y=260)\n",
    "label7.place(x=19, y=300)\n",
    "entry7.place(x=200, y=300)\n",
    "\n",
    "top.mainloop()\n"
   ]
  },
  {
   "cell_type": "code",
   "execution_count": 19,
   "metadata": {},
   "outputs": [
    {
     "name": "stdout",
     "output_type": "stream",
     "text": [
      "Enter Values\n",
      "Name: 1\n"
     ]
    }
   ],
   "source": [
    "from tkinter import *\n",
    "from tkinter import messagebox\n",
    "base = Tk()\n",
    "base.geometry('500x600')\n",
    "base.title(\"Registration Form\")\n",
    "\n",
    "label8=Label(base,text=\"Select Gender\",width=15,font=(\"arial\",12))\n",
    "label8.place(x=5,y=40)\n",
    "vars=IntVar()\n",
    "Radiobutton(base,text=\"Male\",padx=5,variable=vars,value=1).place(x=180,y=40)\n",
    "Radiobutton(base,text=\"Female\",padx=5,variable=vars,value=2).place(x=240,y=40)\n",
    "Radiobutton(base,text=\"Other\",padx=5,variable=vars,value=3).place(x=310,y=40)\n",
    "\n",
    "\n",
    "\n",
    "base.mainloop()\n",
    "\n",
    "print(\"Enter Values\")\n",
    "print(\"Name:\",vars.get())\n"
   ]
  },
  {
   "cell_type": "code",
   "execution_count": 21,
   "metadata": {},
   "outputs": [
    {
     "name": "stdout",
     "output_type": "stream",
     "text": [
      "Enter Values:\n"
     ]
    }
   ],
   "source": [
    "base = Tk()\n",
    "base.geometry('500x600')\n",
    "base.title(\"Registration Form\")\n",
    "\n",
    "label8=Label(base,text=\"Select Gender\",width=15,font=(\"arial\",12))\n",
    "label8.place(x=5,y=40)\n",
    "\n",
    "list_of_cntry=(\"United Sates\",\"India\",\"Nepal\",\"Germany\")\n",
    "cv=StringVar()\n",
    "drplist=OptionMenu(base,cv,*list_of_cntry)\n",
    "drplist.config(width=15)\n",
    "cv.set(\"Select\")\n",
    "lb2=Label(base,text=\"Select Country\",width=13,font=(\"arial\",12))\n",
    "lb2.place(x=14,y=80)\n",
    "drplist.place(x=200,y=75)\n",
    "base.mainloop()\n",
    "print(\"Enter Values:\")"
   ]
  }
 ],
 "metadata": {
  "kernelspec": {
   "display_name": "Python 3",
   "language": "python",
   "name": "python3"
  },
  "language_info": {
   "codemirror_mode": {
    "name": "ipython",
    "version": 3
   },
   "file_extension": ".py",
   "mimetype": "text/x-python",
   "name": "python",
   "nbconvert_exporter": "python",
   "pygments_lexer": "ipython3",
   "version": "3.11.3"
  },
  "orig_nbformat": 4
 },
 "nbformat": 4,
 "nbformat_minor": 2
}
