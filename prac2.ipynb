{
 "cells": [
  {
   "cell_type": "code",
   "execution_count": 5,
   "metadata": {},
   "outputs": [],
   "source": [
    "def pangram():\n",
    "\n",
    "    x = input(\"Enter the string\")\n",
    "    y = x.replace(\" \", \"\").lower()\n",
    "\n",
    "    if y.isalpha():\n",
    "        z = set(y)\n",
    "        if len(z) == 26:\n",
    "            print(\"It's a pangram\")\n",
    "        else:\n",
    "            print(\"Nope, it's not a pangram\")\n",
    "    else:\n",
    "        print(\"Invalid syntax\")\n"
   ]
  },
  {
   "cell_type": "code",
   "execution_count": 6,
   "metadata": {},
   "outputs": [],
   "source": [
    "def hetrogram():\n",
    "\n",
    "    x = input(\"Enter the string\")\n",
    "    y = x.replace(\" \", \"\").lower()\n",
    "\n",
    "    if y.isalpha():\n",
    "        z = set(y)\n",
    "        if len(z)==len(y):\n",
    "            print(\"Heterogram\")\n",
    "        else:\n",
    "            print(\"its not\")\n",
    "    else:\n",
    "        print(\"Invalid syntax\")\n",
    "        "
   ]
  },
  {
   "cell_type": "code",
   "execution_count": 8,
   "metadata": {},
   "outputs": [
    {
     "name": "stdout",
     "output_type": "stream",
     "text": [
      "It's a pangram\n",
      "Heterogram\n"
     ]
    }
   ],
   "source": [
    "pangram()\n",
    "hetrogram()"
   ]
  }
 ],
 "metadata": {
  "kernelspec": {
   "display_name": "Python 3",
   "language": "python",
   "name": "python3"
  },
  "language_info": {
   "codemirror_mode": {
    "name": "ipython",
    "version": 3
   },
   "file_extension": ".py",
   "mimetype": "text/x-python",
   "name": "python",
   "nbconvert_exporter": "python",
   "pygments_lexer": "ipython3",
   "version": "3.10.8"
  },
  "orig_nbformat": 4
 },
 "nbformat": 4,
 "nbformat_minor": 2
}
