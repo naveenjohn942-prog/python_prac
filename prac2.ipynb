{
 "cells": [
  {
   "cell_type": "code",
   "execution_count": 6,
   "metadata": {},
   "outputs": [
    {
     "name": "stdout",
     "output_type": "stream",
     "text": [
      "Nope, it's not a pangram\n"
     ]
    }
   ],
   "source": [
    "x = input(\"Enter the string\")\n",
    "y = x.replace(\" \", \"\").lower()\n",
    "\n",
    "if y.isalpha():\n",
    "    z = set(y)\n",
    "    if len(z) == 26:\n",
    "        print(\"It's a pangram\")\n",
    "    else:\n",
    "        print(\"Nope, it's not a pangram\")\n",
    "else:\n",
    "    print(\"Invalid syntax\")\n"
   ]
  }
 ],
 "metadata": {
  "kernelspec": {
   "display_name": "Python 3",
   "language": "python",
   "name": "python3"
  },
  "language_info": {
   "codemirror_mode": {
    "name": "ipython",
    "version": 3
   },
   "file_extension": ".py",
   "mimetype": "text/x-python",
   "name": "python",
   "nbconvert_exporter": "python",
   "pygments_lexer": "ipython3",
   "version": "3.10.8"
  },
  "orig_nbformat": 4
 },
 "nbformat": 4,
 "nbformat_minor": 2
}
