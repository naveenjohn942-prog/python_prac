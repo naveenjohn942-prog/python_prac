{
 "cells": [
  {
   "cell_type": "code",
   "execution_count": 1,
   "metadata": {},
   "outputs": [
    {
     "name": "stdout",
     "output_type": "stream",
     "text": [
      "2000\n",
      "Name  John  Number  100014  Balance  295000\n",
      "None\n",
      "{'name': 'John', 'number': 100014, 'balance': 295000}\n",
      "__main__\n"
     ]
    }
   ],
   "source": [
    "class Account:\n",
    "    def __init__(self,name,number,balance=0):#default constructor\n",
    "        self.name=name\n",
    "        self.number=number\n",
    "        self.balance=balance\n",
    "    def deposit(self,amount): #self is representing the object who is calling the function\n",
    "        self.balance=self.balance+amount\n",
    "    def __str__(self):# default display\n",
    "        return (\"Name \",self.name,\" Number \",self.number,\" Balance \",self.balance)\n",
    "    def display(self):\n",
    "        print(\"Name \",self.name,\" Number \",self.number,\" Balance \",self.balance)\n",
    "a=Account(\"James\",14501,56000)# arguements are present in class constrcutor thats why i have to write it here otherwise I can not write __init__ and Account() just that\n",
    "a.balance=1000\n",
    "a.deposit(1000)\n",
    "print(a.balance)\n",
    "#Account.deposit(a,100) explicit way to call the function\n",
    "#Constructor\n",
    "a1=Account(\"John\",100014,250000)\n",
    "a1.deposit(45000)\n",
    "a1.display()\n",
    "print(a1.__doc__)\n",
    "print(a1.__dict__)\n",
    "print(a1.__module__)"
   ]
  },
  {
   "cell_type": "markdown",
   "metadata": {},
   "source": [
    "daslkdnq;ldnsndsadsdsa"
   ]
  }
 ],
 "metadata": {
  "kernelspec": {
   "display_name": "Python 3",
   "language": "python",
   "name": "python3"
  },
  "language_info": {
   "codemirror_mode": {
    "name": "ipython",
    "version": 3
   },
   "file_extension": ".py",
   "mimetype": "text/x-python",
   "name": "python",
   "nbconvert_exporter": "python",
   "pygments_lexer": "ipython3",
   "version": "3.10.7"
  },
  "orig_nbformat": 4
 },
 "nbformat": 4,
 "nbformat_minor": 2
}
