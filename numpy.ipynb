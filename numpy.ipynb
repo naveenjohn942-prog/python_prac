{
 "cells": [
  {
   "cell_type": "code",
   "execution_count": 95,
   "metadata": {},
   "outputs": [
    {
     "name": "stdout",
     "output_type": "stream",
     "text": [
      "[1 2 3 4 5]\n"
     ]
    }
   ],
   "source": [
    "import numpy as np\n",
    "a=np.array([1,2,3,4,5])\n",
    "print(a)"
   ]
  },
  {
   "cell_type": "code",
   "execution_count": 96,
   "metadata": {},
   "outputs": [
    {
     "name": "stdout",
     "output_type": "stream",
     "text": [
      "[28 11 13 23 86 28 32 69 11 91]\n"
     ]
    }
   ],
   "source": [
    "\n",
    "rand = np.random.RandomState(52)#here 1st time whatever it is generated it will remain the same in al execution\n",
    "x = rand.randint(100,size=10)\n",
    "print(x)"
   ]
  },
  {
   "cell_type": "code",
   "execution_count": 97,
   "metadata": {},
   "outputs": [
    {
     "name": "stdout",
     "output_type": "stream",
     "text": [
      "[23, 69, 13]\n"
     ]
    },
    {
     "data": {
      "text/plain": [
       "array([23, 69, 86])"
      ]
     },
     "execution_count": 97,
     "metadata": {},
     "output_type": "execute_result"
    }
   ],
   "source": [
    "#1d array\n",
    "print([x[3],x[7],x[2]])\n",
    "ind=[3,7,4]\n",
    "x[ind]"
   ]
  },
  {
   "cell_type": "code",
   "execution_count": 98,
   "metadata": {},
   "outputs": [
    {
     "name": "stdout",
     "output_type": "stream",
     "text": [
      "[[3 7]\n",
      " [4 5]]\n",
      "[[23 69]\n",
      " [86 28]]\n"
     ]
    }
   ],
   "source": [
    "#2d array\n",
    "ind=np.array([[3,7],\n",
    "              [4,5]])\n",
    "print(ind)\n",
    "print(x[ind])#here element of array is used as index"
   ]
  },
  {
   "cell_type": "code",
   "execution_count": 99,
   "metadata": {},
   "outputs": [
    {
     "name": "stdout",
     "output_type": "stream",
     "text": [
      "[[ 1  2  3]\n",
      " [11 22 33]]\n",
      "2\n",
      "Each item contains 8 bytes\n",
      "Shape: (2, 3)\n",
      "Each item is of the type int64\n"
     ]
    }
   ],
   "source": [
    "x2=np.array([(1,2,3),(11,22,33)])\n",
    "print(x2)\n",
    "print(x2.ndim)\n",
    "print(\"Each item contains\",x2.itemsize,\"bytes\")\n",
    "print(\"Shape:\",x2.shape)\n",
    "print(\"Each item is of the type\",x2.dtype)\n",
    "\n"
   ]
  },
  {
   "cell_type": "code",
   "execution_count": 100,
   "metadata": {},
   "outputs": [
    {
     "name": "stdout",
     "output_type": "stream",
     "text": [
      "[12 24 36]\n",
      "[12 24 36]\n",
      "72\n"
     ]
    }
   ],
   "source": [
    "print(np.add.reduce(x2))#it will add the coloumn\n",
    "print(sum(x2))#add all the element\n",
    "print(np.sum(x2))#summation of all element"
   ]
  },
  {
   "cell_type": "code",
   "execution_count": 101,
   "metadata": {},
   "outputs": [
    {
     "name": "stdout",
     "output_type": "stream",
     "text": [
      "original\n",
      "[[1 2]\n",
      " [3 4]\n",
      " [5 6]]\n",
      "reshaped array\n",
      "[[1 2 3]\n",
      " [4 5 6]]\n",
      "[[1 2 3 4 5 6]]\n",
      "[[1]\n",
      " [2]\n",
      " [3]\n",
      " [4]\n",
      " [5]\n",
      " [6]]\n"
     ]
    }
   ],
   "source": [
    "a=np.array([[1,2],[3,4],[5,6]])\n",
    "print(\"original\")\n",
    "print(a)\n",
    "a=a.reshape(2,3)\n",
    "print(\"reshaped array\")\n",
    "print(a)\n",
    "a=a.reshape(1,6)\n",
    "print(a)\n",
    "a=a.reshape(6,1)\n",
    "print(a)\n",
    "#=a.reshape(5,1)#this is an array as there is only 6 element so 2x3,2x6,6x1,3x2 is possible\n",
    "# print(a)\n"
   ]
  },
  {
   "cell_type": "code",
   "execution_count": 102,
   "metadata": {},
   "outputs": [
    {
     "name": "stdout",
     "output_type": "stream",
     "text": [
      "[[ 0  1  2  3]\n",
      " [ 4  5  6  7]\n",
      " [ 8  9 10 11]]\n",
      "6\n",
      "[6 4 5]\n",
      "[[ 5  6]\n",
      " [ 9 10]]\n"
     ]
    }
   ],
   "source": [
    "a=np.arange(12).reshape((3,4))#max 12 element then it will arrange\n",
    "print(a)\n",
    "print(a[1,2])\n",
    "print(a[1,[2,0,1]])#it print the value of 1x2,1x0,1x1(this is called combined indeing)\n",
    "print(a[1:3,1:3])\n"
   ]
  },
  {
   "cell_type": "code",
   "execution_count": 103,
   "metadata": {},
   "outputs": [
    {
     "name": "stdout",
     "output_type": "stream",
     "text": [
      "[[ 0  1  2  3]\n",
      " [ 4  5  6  7]\n",
      " [ 8  9 10 11]]\n",
      "max= 11\n",
      "min= 0\n",
      "sum= 66\n",
      "max column= [ 8  9 10 11]\n",
      "max row= [ 3  7 11]\n",
      "max row sum= [ 6 22 38]\n",
      "max col sum= [12 15 18 21]\n",
      "srt [[0.         1.         1.41421356 1.73205081]\n",
      " [2.         2.23606798 2.44948974 2.64575131]\n",
      " [2.82842712 3.         3.16227766 3.31662479]]\n",
      "standard deviation 3.452052529534663\n",
      "standard deviation [1.11803399 1.11803399 1.11803399]\n",
      "standard deviation [3.26598632 3.26598632 3.26598632 3.26598632]\n"
     ]
    }
   ],
   "source": [
    "print(a)\n",
    "print(\"max=\",a.max())\n",
    "print(\"min=\",a.min())\n",
    "print(\"sum=\",a.sum())\n",
    "print(\"max column=\",a.max(axis=0))#axis=0 means col,1 means row\n",
    "print(\"max row=\",a.max(axis=1))\n",
    "print(\"max row sum=\",a.sum(axis=1))\n",
    "print(\"max col sum=\",a.sum(axis=0))\n",
    "print(\"srt\",np.sqrt(a))\n",
    "print(\"standard deviation\",np.std(a))\n",
    "print(\"standard deviation\",a.std(axis=1))\n",
    "print(\"standard deviation\",a.std(axis=0))\n",
    "\n",
    "\n"
   ]
  },
  {
   "cell_type": "code",
   "execution_count": 104,
   "metadata": {},
   "outputs": [
    {
     "name": "stdout",
     "output_type": "stream",
     "text": [
      "a [[1 2]\n",
      " [3 4]\n",
      " [5 6]]\n",
      "a [[1 2]\n",
      " [3 4]\n",
      " [5 6]]\n",
      "sum [[ 2  4]\n",
      " [ 6  8]\n",
      " [10 12]]\n",
      "substraction [[0 0]\n",
      " [0 0]\n",
      " [0 0]]\n",
      "multiply [[ 1  4]\n",
      " [ 9 16]\n",
      " [25 36]]\n",
      "devide [[1. 1.]\n",
      " [1. 1.]\n",
      " [1. 1.]]\n",
      "multiply one number with all [[ 3  6]\n",
      " [ 9 12]\n",
      " [15 18]]\n"
     ]
    }
   ],
   "source": [
    "a=np.array([[1,2],[3,4],[5,6]])\n",
    "print(\"a\",a)\n",
    "b=np.array([[1,2],[3,4],[5,6]])\n",
    "print(\"a\",b)\n",
    "print(\"sum\",a+b)\n",
    "print(\"substraction\",a-b)\n",
    "print(\"multiply\",a*b)\n",
    "print(\"devide\",a/b)\n",
    "print(\"multiply one number with all\",a*3)\n",
    "\n"
   ]
  },
  {
   "cell_type": "code",
   "execution_count": 108,
   "metadata": {},
   "outputs": [
    {
     "name": "stdout",
     "output_type": "stream",
     "text": [
      "Array a\n",
      " [[1 2]\n",
      " [3 4]\n",
      " [5 6]] \n",
      " Array b \n",
      "[[1 2]\n",
      " [3 4]\n",
      " [5 6]]\n",
      "vertical concatenation\n",
      " [[1 2]\n",
      " [3 4]\n",
      " [5 6]\n",
      " [1 2]\n",
      " [3 4]\n",
      " [5 6]]\n",
      "horizontal concatenation\n",
      " [[1 2 1 2]\n",
      " [3 4 3 4]\n",
      " [5 6 5 6]]\n"
     ]
    }
   ],
   "source": [
    "#array concatentation\n",
    "print(\"Array a\\n {} \\n Array b \\n{}\".format(a,b))\n",
    "print(\"vertical concatenation\\n\",np.vstack((a,b)))\n",
    "print(\"horizontal concatenation\\n\",np.hstack((a,b)))\n"
   ]
  }
 ],
 "metadata": {
  "kernelspec": {
   "display_name": "Python 3",
   "language": "python",
   "name": "python3"
  },
  "language_info": {
   "codemirror_mode": {
    "name": "ipython",
    "version": 3
   },
   "file_extension": ".py",
   "mimetype": "text/x-python",
   "name": "python",
   "nbconvert_exporter": "python",
   "pygments_lexer": "ipython3",
   "version": "3.10.8"
  },
  "orig_nbformat": 4
 },
 "nbformat": 4,
 "nbformat_minor": 2
}
