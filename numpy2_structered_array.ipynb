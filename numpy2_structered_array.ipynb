{
 "cells": [
  {
   "cell_type": "code",
   "execution_count": 2,
   "metadata": {},
   "outputs": [
    {
     "data": {
      "text/plain": [
       "array([('ram', 25,  True), ('Sita', 23, False), ('Lakshman', 27,  True),\n",
       "       ('Ravan', 27,  True)],\n",
       "      dtype=[('person_name', '<U9'), ('person_age', '<i8'), ('is_python_programmer', '?')])"
      ]
     },
     "execution_count": 2,
     "metadata": {},
     "output_type": "execute_result"
    }
   ],
   "source": [
    "import numpy as np\n",
    "dtype=[('person_name','U9'),('person_age','i8'),('is_python_programmer','bool')]#u9-it will only take 9 char,i8-integer 8bit---these are the dataype of each column\n",
    "data = np.array([('ram',25,True),('Sita',23,False),('Lakshman',27,True),('Ravan',27,True)],dtype=dtype)\n",
    "data"
   ]
  },
  {
   "cell_type": "code",
   "execution_count": 6,
   "metadata": {},
   "outputs": [
    {
     "name": "stdout",
     "output_type": "stream",
     "text": [
      "['ram' 'Sita' 'Lakshman' 'Ravan']\n"
     ]
    },
    {
     "data": {
      "text/plain": [
       "('ram', 25, True)"
      ]
     },
     "execution_count": 6,
     "metadata": {},
     "output_type": "execute_result"
    }
   ],
   "source": [
    "print(data['person_name'])#accessing column\n",
    "data[0]#accessing record"
   ]
  },
  {
   "cell_type": "code",
   "execution_count": 18,
   "metadata": {},
   "outputs": [
    {
     "name": "stdout",
     "output_type": "stream",
     "text": [
      "[('ram', 25,  True)]\n",
      "[('Sita', 23, False)]\n"
     ]
    }
   ],
   "source": [
    "print(data[np.where(data['person_age']==25)])\n",
    "\n",
    "print(data[np.where(data['person_name']=='Sita')])"
   ]
  },
  {
   "cell_type": "code",
   "execution_count": 10,
   "metadata": {},
   "outputs": [
    {
     "name": "stdout",
     "output_type": "stream",
     "text": [
      "[('Ravan', 27,  True) ('Lakshman', 27,  True) ('ram', 25,  True)\n",
      " ('Sita', 23, False)]\n"
     ]
    }
   ],
   "source": [
    "sorted_data=np.sort(data, order='person_age')[::-1]\n",
    "print(sorted_data)"
   ]
  },
  {
   "cell_type": "code",
   "execution_count": 11,
   "metadata": {},
   "outputs": [
    {
     "data": {
      "text/plain": [
       "array(['Lakshman', 'Ravan'], dtype='<U9')"
      ]
     },
     "execution_count": 11,
     "metadata": {},
     "output_type": "execute_result"
    }
   ],
   "source": [
    "data[-2:]['person_name']"
   ]
  },
  {
   "cell_type": "code",
   "execution_count": 21,
   "metadata": {},
   "outputs": [
    {
     "name": "stdout",
     "output_type": "stream",
     "text": [
      "avg age= 25.5\n",
      "max age= 27\n",
      "[('Lakshman', 27,  True) ('Ravan', 27,  True)]\n"
     ]
    }
   ],
   "source": [
    "print(\"avg age=\",np.mean(data['person_age']))\n",
    "print(\"max age=\",np.max(data['person_age']))\n",
    "\n",
    "a=data[data['person_age']>25]\n",
    "print(a)\n"
   ]
  },
  {
   "cell_type": "code",
   "execution_count": 27,
   "metadata": {},
   "outputs": [
    {
     "name": "stdout",
     "output_type": "stream",
     "text": [
      "[('ram', 25,  True) ('Lakshman', 27,  True) ('Ravan', 27,  True)]\n"
     ]
    }
   ],
   "source": [
    "b=data[data['is_python_programmer']==True]\n",
    "print(b)"
   ]
  }
 ],
 "metadata": {
  "kernelspec": {
   "display_name": "Python 3",
   "language": "python",
   "name": "python3"
  },
  "language_info": {
   "codemirror_mode": {
    "name": "ipython",
    "version": 3
   },
   "file_extension": ".py",
   "mimetype": "text/x-python",
   "name": "python",
   "nbconvert_exporter": "python",
   "pygments_lexer": "ipython3",
   "version": "3.10.8"
  },
  "orig_nbformat": 4
 },
 "nbformat": 4,
 "nbformat_minor": 2
}
