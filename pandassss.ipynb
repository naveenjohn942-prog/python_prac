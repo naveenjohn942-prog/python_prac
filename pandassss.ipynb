{
 "cells": [
  {
   "cell_type": "code",
   "execution_count": 42,
   "metadata": {},
   "outputs": [
    {
     "name": "stdout",
     "output_type": "stream",
     "text": [
      "[0.25 0.75 1.  ]\n",
      "RangeIndex(start=0, stop=3, step=1)\n",
      "0.75\n",
      "1    0.75\n",
      "2    1.00\n",
      "dtype: float64\n"
     ]
    }
   ],
   "source": [
    "import pandas as pd\n",
    "import numpy as np\n",
    "\n",
    "data=pd.Series([0.25,0.75,1.0])\n",
    "print(data.values)\n",
    "print(data.index)\n",
    "print(data[1])\n",
    "print(data[1:3])"
   ]
  },
  {
   "cell_type": "code",
   "execution_count": 43,
   "metadata": {},
   "outputs": [
    {
     "name": "stdout",
     "output_type": "stream",
     "text": [
      "2    0.25\n",
      "5    0.75\n",
      "3    1.00\n",
      "dtype: float64\n"
     ]
    },
    {
     "data": {
      "text/plain": [
       "0.75"
      ]
     },
     "execution_count": 43,
     "metadata": {},
     "output_type": "execute_result"
    }
   ],
   "source": [
    "data=pd.Series([0.25,0.75,1.0],\n",
    "               index=[2,5,3])#you can change the index with it\n",
    "print(data)\n",
    "data[5]\n"
   ]
  },
  {
   "cell_type": "code",
   "execution_count": 44,
   "metadata": {},
   "outputs": [
    {
     "name": "stdout",
     "output_type": "stream",
     "text": [
      "1.2    0.25\n",
      "2.5    0.75\n",
      "3.0    1.00\n",
      "dtype: float64\n",
      "[0.25 0.75 1.  ]\n",
      "Index([1.2, 2.5, 3.0], dtype='float64')\n"
     ]
    }
   ],
   "source": [
    "data_2d=pd.Series([0.25,0.75,1.0],\n",
    "               [1.2,2.5,3.0])#1st list is value and 2nd is index \n",
    "\n",
    "print(data_2d)\n",
    "print(data_2d.values)\n",
    "print(data_2d.index)\n",
    "\n",
    "\n"
   ]
  },
  {
   "cell_type": "code",
   "execution_count": 45,
   "metadata": {},
   "outputs": [
    {
     "data": {
      "text/html": [
       "<div>\n",
       "<style scoped>\n",
       "    .dataframe tbody tr th:only-of-type {\n",
       "        vertical-align: middle;\n",
       "    }\n",
       "\n",
       "    .dataframe tbody tr th {\n",
       "        vertical-align: top;\n",
       "    }\n",
       "\n",
       "    .dataframe thead th {\n",
       "        text-align: right;\n",
       "    }\n",
       "</style>\n",
       "<table border=\"1\" class=\"dataframe\">\n",
       "  <thead>\n",
       "    <tr style=\"text-align: right;\">\n",
       "      <th></th>\n",
       "      <th>population</th>\n",
       "      <th>area</th>\n",
       "    </tr>\n",
       "  </thead>\n",
       "  <tbody>\n",
       "    <tr>\n",
       "      <th>Indore</th>\n",
       "      <td>321655</td>\n",
       "      <td>64684864</td>\n",
       "    </tr>\n",
       "    <tr>\n",
       "      <th>Banglore</th>\n",
       "      <td>4684878</td>\n",
       "      <td>89756464</td>\n",
       "    </tr>\n",
       "    <tr>\n",
       "      <th>Delhi</th>\n",
       "      <td>687435453</td>\n",
       "      <td>645465</td>\n",
       "    </tr>\n",
       "  </tbody>\n",
       "</table>\n",
       "</div>"
      ],
      "text/plain": [
       "          population      area\n",
       "Indore        321655  64684864\n",
       "Banglore     4684878  89756464\n",
       "Delhi      687435453    645465"
      ]
     },
     "execution_count": 45,
     "metadata": {},
     "output_type": "execute_result"
    }
   ],
   "source": [
    "# dataFrame using dict or list\n",
    "\n",
    "lst1=[321655,64684864]\n",
    "lst2=[4684878,89756464]\n",
    "lst3=[687435453,645465]\n",
    "\n",
    "pd.DataFrame([lst1,lst2,lst3],index=[\"Indore\",\"Banglore\",\"Delhi\"],columns=[\"population\",\"area\"])\n"
   ]
  },
  {
   "cell_type": "code",
   "execution_count": 46,
   "metadata": {},
   "outputs": [
    {
     "data": {
      "text/html": [
       "<div>\n",
       "<style scoped>\n",
       "    .dataframe tbody tr th:only-of-type {\n",
       "        vertical-align: middle;\n",
       "    }\n",
       "\n",
       "    .dataframe tbody tr th {\n",
       "        vertical-align: top;\n",
       "    }\n",
       "\n",
       "    .dataframe thead th {\n",
       "        text-align: right;\n",
       "    }\n",
       "</style>\n",
       "<table border=\"1\" class=\"dataframe\">\n",
       "  <thead>\n",
       "    <tr style=\"text-align: right;\">\n",
       "      <th></th>\n",
       "      <th>color</th>\n",
       "      <th>count</th>\n",
       "    </tr>\n",
       "  </thead>\n",
       "  <tbody>\n",
       "    <tr>\n",
       "      <th>Mango</th>\n",
       "      <td>yellow</td>\n",
       "      <td>50</td>\n",
       "    </tr>\n",
       "    <tr>\n",
       "      <th>Apple</th>\n",
       "      <td>Red</td>\n",
       "      <td>25</td>\n",
       "    </tr>\n",
       "    <tr>\n",
       "      <th>Orange</th>\n",
       "      <td>orange</td>\n",
       "      <td>90</td>\n",
       "    </tr>\n",
       "  </tbody>\n",
       "</table>\n",
       "</div>"
      ],
      "text/plain": [
       "         color  count\n",
       "Mango   yellow     50\n",
       "Apple      Red     25\n",
       "Orange  orange     90"
      ]
     },
     "execution_count": 46,
     "metadata": {},
     "output_type": "execute_result"
    }
   ],
   "source": [
    "lst1=[\"yellow\",50]\n",
    "lst2=[\"Red\",25]\n",
    "lst3=[\"orange\",90]\n",
    "\n",
    "pd.DataFrame([lst1,lst2,lst3],index=[\"Mango\",\"Apple\",\"Orange\"],columns=[\"color\",\"count\"])\n",
    "\n"
   ]
  },
  {
   "cell_type": "code",
   "execution_count": 47,
   "metadata": {},
   "outputs": [
    {
     "data": {
      "text/html": [
       "<div>\n",
       "<style scoped>\n",
       "    .dataframe tbody tr th:only-of-type {\n",
       "        vertical-align: middle;\n",
       "    }\n",
       "\n",
       "    .dataframe tbody tr th {\n",
       "        vertical-align: top;\n",
       "    }\n",
       "\n",
       "    .dataframe thead th {\n",
       "        text-align: right;\n",
       "    }\n",
       "</style>\n",
       "<table border=\"1\" class=\"dataframe\">\n",
       "  <thead>\n",
       "    <tr style=\"text-align: right;\">\n",
       "      <th></th>\n",
       "      <th>popuation</th>\n",
       "      <th>area</th>\n",
       "    </tr>\n",
       "  </thead>\n",
       "  <tbody>\n",
       "    <tr>\n",
       "      <th>Indore</th>\n",
       "      <td>65468486</td>\n",
       "      <td>8784</td>\n",
       "    </tr>\n",
       "    <tr>\n",
       "      <th>banglore</th>\n",
       "      <td>664565</td>\n",
       "      <td>65465</td>\n",
       "    </tr>\n",
       "    <tr>\n",
       "      <th>delhi</th>\n",
       "      <td>654644</td>\n",
       "      <td>654654</td>\n",
       "    </tr>\n",
       "  </tbody>\n",
       "</table>\n",
       "</div>"
      ],
      "text/plain": [
       "          popuation    area\n",
       "Indore     65468486    8784\n",
       "banglore     664565   65465\n",
       "delhi        654644  654654"
      ]
     },
     "execution_count": 47,
     "metadata": {},
     "output_type": "execute_result"
    }
   ],
   "source": [
    "pop_dict={'Indore':65468486,\n",
    "          'banglore':664565,\n",
    "          'delhi':654644}\n",
    "\n",
    "area_dict={'Indore':8784,\n",
    "          'banglore':65465,\n",
    "          'delhi':654654}\n",
    "\n",
    "states=pd.DataFrame({'popuation':pop_dict,\n",
    "                     'area':area_dict})\n",
    "\n",
    "states"
   ]
  },
  {
   "cell_type": "code",
   "execution_count": 48,
   "metadata": {},
   "outputs": [
    {
     "name": "stdout",
     "output_type": "stream",
     "text": [
      "Row Name: Index(['Indore', 'banglore', 'delhi'], dtype='object')\n",
      "column Name: Index(['popuation', 'area'], dtype='object')\n"
     ]
    }
   ],
   "source": [
    "print(\"Row Name:\",states.index)\n",
    "print(\"column Name:\",states.columns)\n"
   ]
  },
  {
   "cell_type": "code",
   "execution_count": 52,
   "metadata": {},
   "outputs": [
    {
     "data": {
      "text/html": [
       "<div>\n",
       "<style scoped>\n",
       "    .dataframe tbody tr th:only-of-type {\n",
       "        vertical-align: middle;\n",
       "    }\n",
       "\n",
       "    .dataframe tbody tr th {\n",
       "        vertical-align: top;\n",
       "    }\n",
       "\n",
       "    .dataframe thead th {\n",
       "        text-align: right;\n",
       "    }\n",
       "</style>\n",
       "<table border=\"1\" class=\"dataframe\">\n",
       "  <thead>\n",
       "    <tr style=\"text-align: right;\">\n",
       "      <th></th>\n",
       "      <th>name</th>\n",
       "      <th>city</th>\n",
       "      <th>age</th>\n",
       "      <th>py-score</th>\n",
       "    </tr>\n",
       "  </thead>\n",
       "  <tbody>\n",
       "    <tr>\n",
       "      <th>101</th>\n",
       "      <td>xavier</td>\n",
       "      <td>mexico City</td>\n",
       "      <td>41</td>\n",
       "      <td>88.0</td>\n",
       "    </tr>\n",
       "    <tr>\n",
       "      <th>102</th>\n",
       "      <td>Ann</td>\n",
       "      <td>Toronto</td>\n",
       "      <td>28</td>\n",
       "      <td>79.0</td>\n",
       "    </tr>\n",
       "    <tr>\n",
       "      <th>103</th>\n",
       "      <td>Jans</td>\n",
       "      <td>Prague</td>\n",
       "      <td>33</td>\n",
       "      <td>81.0</td>\n",
       "    </tr>\n",
       "    <tr>\n",
       "      <th>104</th>\n",
       "      <td>Yi</td>\n",
       "      <td>shanghai</td>\n",
       "      <td>34</td>\n",
       "      <td>80.0</td>\n",
       "    </tr>\n",
       "    <tr>\n",
       "      <th>105</th>\n",
       "      <td>Robin</td>\n",
       "      <td>Manchester</td>\n",
       "      <td>38</td>\n",
       "      <td>68.0</td>\n",
       "    </tr>\n",
       "    <tr>\n",
       "      <th>106</th>\n",
       "      <td>Amal</td>\n",
       "      <td>Cairo</td>\n",
       "      <td>31</td>\n",
       "      <td>61.0</td>\n",
       "    </tr>\n",
       "    <tr>\n",
       "      <th>107</th>\n",
       "      <td>Nori</td>\n",
       "      <td>Osaka</td>\n",
       "      <td>37</td>\n",
       "      <td>84.0</td>\n",
       "    </tr>\n",
       "  </tbody>\n",
       "</table>\n",
       "</div>"
      ],
      "text/plain": [
       "       name         city  age  py-score\n",
       "101  xavier  mexico City   41      88.0\n",
       "102     Ann      Toronto   28      79.0\n",
       "103    Jans       Prague   33      81.0\n",
       "104      Yi     shanghai   34      80.0\n",
       "105   Robin   Manchester   38      68.0\n",
       "106    Amal        Cairo   31      61.0\n",
       "107    Nori        Osaka   37      84.0"
      ]
     },
     "execution_count": 52,
     "metadata": {},
     "output_type": "execute_result"
    }
   ],
   "source": [
    "lst1=[\"xavier\",\"mexico City\",41,88.0]\n",
    "lst2=[\"Ann\",\"Toronto\",28,79.0]\n",
    "lst3=[\"Jans\",\"Prague\",33,81.0]\n",
    "lst4=[\"Yi\",\"shanghai\",34,80.0]\n",
    "lst5=[\"Robin\",\"Manchester\",38,68.0]\n",
    "lst6=[\"Amal\",\"Cairo\",31,61.0]\n",
    "lst7=[\"Nori\",\"Osaka\",37,84.0]\n",
    "\n",
    "df=pd.DataFrame([lst1,lst2,lst3,lst4,lst5,lst6,lst7],index=[101,102,103,104,105,106,107],columns=[\"name\",\"city\",\"age\",\"py-score\"])\n",
    "df"
   ]
  },
  {
   "cell_type": "code",
   "execution_count": 55,
   "metadata": {},
   "outputs": [
    {
     "name": "stdout",
     "output_type": "stream",
     "text": [
      "name          Jans\n",
      "city        Prague\n",
      "age             33\n",
      "py-score      81.0\n",
      "Name: 103, dtype: object\n",
      "101    xavier\n",
      "102       Ann\n",
      "103      Jans\n",
      "104        Yi\n",
      "105     Robin\n",
      "106      Amal\n",
      "107      Nori\n",
      "Name: name, dtype: object\n"
     ]
    },
    {
     "data": {
      "text/plain": [
       "101    mexico City\n",
       "102        Toronto\n",
       "103         Prague\n",
       "104       shanghai\n",
       "105     Manchester\n",
       "106          Cairo\n",
       "107          Osaka\n",
       "Name: city, dtype: object"
      ]
     },
     "execution_count": 55,
     "metadata": {},
     "output_type": "execute_result"
    }
   ],
   "source": [
    "print(df.loc[103])#loc is used for accessing row\n",
    "print(df[\"name\"])#to access column\n",
    "df.city#to access column"
   ]
  },
  {
   "cell_type": "code",
   "execution_count": 57,
   "metadata": {},
   "outputs": [
    {
     "data": {
      "text/plain": [
       "(caifornia, 2000)    65465465165\n",
       "(caifornia, 2010)        6464646\n",
       "(New York, 2000)     65465465465\n",
       "(New York, 2010)        65464654\n",
       "(texas, 2000)        65465465456\n",
       "(texas, 2010)             465654\n",
       "dtype: int64"
      ]
     },
     "execution_count": 57,
     "metadata": {},
     "output_type": "execute_result"
    }
   ],
   "source": [
    "#hierarchical index\n",
    "index_1=[('caifornia',2000),('caifornia',2010),\n",
    "       ('New York', 2000),('New York',2010),\n",
    "       ('texas',2000),('texas',2010)]\n",
    "population=[65465465165,6464646,\n",
    "            65465465465,65464654,\n",
    "            65465465456,465654]\n",
    "pop=pd.Series(population,index=index_1)\n",
    "pop"
   ]
  },
  {
   "cell_type": "code",
   "execution_count": 59,
   "metadata": {},
   "outputs": [
    {
     "data": {
      "text/plain": [
       "(caifornia, 2010)     6464646\n",
       "(New York, 2010)     65464654\n",
       "(texas, 2010)          465654\n",
       "dtype: int64"
      ]
     },
     "execution_count": 59,
     "metadata": {},
     "output_type": "execute_result"
    }
   ],
   "source": [
    "pop[[i for i in pop.index if i[1]==2010]]"
   ]
  },
  {
   "cell_type": "code",
   "execution_count": 60,
   "metadata": {},
   "outputs": [
    {
     "data": {
      "text/plain": [
       "MultiIndex([('caifornia', 2000),\n",
       "            ('caifornia', 2010),\n",
       "            ( 'New York', 2000),\n",
       "            ( 'New York', 2010),\n",
       "            (    'texas', 2000),\n",
       "            (    'texas', 2010)],\n",
       "           )"
      ]
     },
     "execution_count": 60,
     "metadata": {},
     "output_type": "execute_result"
    }
   ],
   "source": [
    "index_1=pd.MultiIndex.from_tuples(index_1)\n",
    "index_1"
   ]
  }
 ],
 "metadata": {
  "kernelspec": {
   "display_name": "Python 3",
   "language": "python",
   "name": "python3"
  },
  "language_info": {
   "codemirror_mode": {
    "name": "ipython",
    "version": 3
   },
   "file_extension": ".py",
   "mimetype": "text/x-python",
   "name": "python",
   "nbconvert_exporter": "python",
   "pygments_lexer": "ipython3",
   "version": "3.10.8"
  },
  "orig_nbformat": 4
 },
 "nbformat": 4,
 "nbformat_minor": 2
}
