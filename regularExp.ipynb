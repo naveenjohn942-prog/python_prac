{
 "cells": [
  {
   "cell_type": "code",
   "execution_count": 33,
   "metadata": {},
   "outputs": [
    {
     "name": "stdout",
     "output_type": "stream",
     "text": [
      "<re.Match object; span=(0, 3), match='wel'>\n"
     ]
    }
   ],
   "source": [
    "import re\n",
    "\n",
    "txt=\"welcome to the re module\"\n",
    "\n",
    "match1=re.match(\"wel\",txt) #check only the initial\n",
    "print(match1)\n",
    "\n"
   ]
  },
  {
   "cell_type": "code",
   "execution_count": 35,
   "metadata": {},
   "outputs": [
    {
     "name": "stdout",
     "output_type": "stream",
     "text": [
      "<re.Match object; span=(12, 14), match='he'>\n",
      "(12, 14)\n",
      "welcome to the re module\n",
      "he\n"
     ]
    }
   ],
   "source": [
    "search1= re.search(\"he\",txt)\n",
    "print(search1)\n",
    "print(search1.span())#position\n",
    "print(search1.string)#print the entire text\n",
    "print(search1.group())#gives the string which u r searching"
   ]
  },
  {
   "cell_type": "code",
   "execution_count": 37,
   "metadata": {},
   "outputs": [
    {
     "name": "stdout",
     "output_type": "stream",
     "text": [
      "['he']\n",
      "['welcome to t', ' re module']\n",
      "welcome to t5 re module\n"
     ]
    }
   ],
   "source": [
    "fall1=re.findall(\"he\",txt)\n",
    "print(fall1)#give the string in list form\n",
    "split1=re.split(\"he\",txt)\n",
    "print(split1)#splits the string  as list using 'he' as delimiter\n",
    "sub1=re.sub(\"he\",\"5\",txt)#replace\n",
    "print(sub1)"
   ]
  },
  {
   "cell_type": "code",
   "execution_count": 39,
   "metadata": {},
   "outputs": [
    {
     "name": "stdout",
     "output_type": "stream",
     "text": [
      "['o', 'o', 'o', 'd', 'u', 'o', 'o', 'u', 'o', 'd', 'u', 'o', 'o', 'd']\n"
     ]
    }
   ],
   "source": [
    "txt=\"welcome to the re module or concept 08 Aug 2023 module moodle\"\n",
    "search1=re.findall(\"[odu]\",txt)#[] it just check if o,d,u is present\n",
    "print(search1)"
   ]
  },
  {
   "cell_type": "code",
   "execution_count": 41,
   "metadata": {},
   "outputs": [
    {
     "name": "stdout",
     "output_type": "stream",
     "text": [
      "[]\n"
     ]
    }
   ],
   "source": [
    "search1=re.findall(\"{odu}\",txt)#{} it just check exact odu is present\n",
    "print(search1)"
   ]
  },
  {
   "cell_type": "code",
   "execution_count": 42,
   "metadata": {},
   "outputs": [
    {
     "name": "stdout",
     "output_type": "stream",
     "text": [
      "['0', '8', '2', '0', '2', '3']\n"
     ]
    }
   ],
   "source": [
    "search1=re.findall(\"\\d\",txt) #it will give all the digit in the string\n",
    "print(search1)"
   ]
  },
  {
   "cell_type": "code",
   "execution_count": null,
   "metadata": {},
   "outputs": [],
   "source": []
  }
 ],
 "metadata": {
  "kernelspec": {
   "display_name": "Python 3",
   "language": "python",
   "name": "python3"
  },
  "language_info": {
   "codemirror_mode": {
    "name": "ipython",
    "version": 3
   },
   "file_extension": ".py",
   "mimetype": "text/x-python",
   "name": "python",
   "nbconvert_exporter": "python",
   "pygments_lexer": "ipython3",
   "version": "3.10.8"
  },
  "orig_nbformat": 4
 },
 "nbformat": 4,
 "nbformat_minor": 2
}
