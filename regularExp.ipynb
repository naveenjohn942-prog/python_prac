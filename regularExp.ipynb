{
 "cells": [
  {
   "cell_type": "code",
   "execution_count": 1,
   "metadata": {},
   "outputs": [
    {
     "name": "stdout",
     "output_type": "stream",
     "text": [
      "<re.Match object; span=(0, 3), match='wel'>\n"
     ]
    }
   ],
   "source": [
    "import re\n",
    "\n",
    "txt=\"welcome to the re module\"\n",
    "\n",
    "match1=re.match(\"wel\",txt) #check only the initial\n",
    "print(match1)\n",
    "\n"
   ]
  },
  {
   "cell_type": "code",
   "execution_count": 2,
   "metadata": {},
   "outputs": [
    {
     "name": "stdout",
     "output_type": "stream",
     "text": [
      "<re.Match object; span=(12, 14), match='he'>\n",
      "(12, 14)\n",
      "welcome to the re module\n",
      "he\n"
     ]
    }
   ],
   "source": [
    "search1= re.search(\"he\",txt)\n",
    "print(search1)\n",
    "print(search1.span())#position\n",
    "print(search1.string)#print the entire text\n",
    "print(search1.group())#gives the string which u r searching"
   ]
  },
  {
   "cell_type": "code",
   "execution_count": 3,
   "metadata": {},
   "outputs": [
    {
     "name": "stdout",
     "output_type": "stream",
     "text": [
      "['he']\n",
      "['welcome to t', ' re module']\n",
      "welcome to t5 re module\n"
     ]
    }
   ],
   "source": [
    "fall1=re.findall(\"he\",txt)\n",
    "print(fall1)#give the string in list form\n",
    "split1=re.split(\"he\",txt)\n",
    "print(split1)#splits the string  as list using 'he' as delimiter\n",
    "sub1=re.sub(\"he\",\"5\",txt)#replace\n",
    "print(sub1)"
   ]
  },
  {
   "cell_type": "code",
   "execution_count": 4,
   "metadata": {},
   "outputs": [
    {
     "name": "stdout",
     "output_type": "stream",
     "text": [
      "['o', 'o', 'o', 'd', 'u', 'o', 'o', 'u', 'o', 'd', 'u', 'o', 'o', 'd']\n"
     ]
    }
   ],
   "source": [
    "txt=\"welcome to the re module or concept 08 Aug 2023 module moodle\"\n",
    "search1=re.findall(\"[odu]\",txt)#[] it just check if o,d,u is present\n",
    "print(search1)"
   ]
  },
  {
   "cell_type": "code",
   "execution_count": 5,
   "metadata": {},
   "outputs": [
    {
     "name": "stdout",
     "output_type": "stream",
     "text": [
      "[]\n"
     ]
    }
   ],
   "source": [
    "search1=re.findall(\"{odu}\",txt)#{} it just check exact odu is present\n",
    "print(search1)"
   ]
  },
  {
   "cell_type": "code",
   "execution_count": 6,
   "metadata": {},
   "outputs": [
    {
     "name": "stdout",
     "output_type": "stream",
     "text": [
      "['0', '8', '2', '0', '2', '3']\n"
     ]
    }
   ],
   "source": [
    "search1=re.findall(\"\\d\",txt) #it will give all the digit in the string\n",
    "print(search1)"
   ]
  },
  {
   "cell_type": "code",
   "execution_count": 7,
   "metadata": {},
   "outputs": [
    {
     "name": "stdout",
     "output_type": "stream",
     "text": [
      "['module', 'module', 'moodle']\n",
      "['module', 'module']\n",
      "['module or concept 08 Aug 2023 module']\n",
      "['welcome']\n",
      "['module or concept 08 Aug']\n"
     ]
    }
   ],
   "source": [
    "search3=re.findall(\"mo..le\",txt)\n",
    "print(search3)\n",
    "search4=re.findall(\"mo.?ule\",txt)\n",
    "search5=re.findall(\"mo.+ule\",txt)# + is 1 or more occurence\n",
    "print(search4)\n",
    "print(search5)\n",
    "search6=re.findall(r\"\\w+m\\w+\",txt)# \\w means it is an alphabet then in b/w m should be there then alphabet\n",
    "print(search6)\n",
    "search7=re.findall(\"mo.*g\",txt)# * is for 0 or more occurence\n",
    "print(search7)\n",
    "\n",
    "\n",
    "\n"
   ]
  },
  {
   "cell_type": "code",
   "execution_count": 8,
   "metadata": {},
   "outputs": [
    {
     "name": "stdout",
     "output_type": "stream",
     "text": [
      "['module', 'concept', 'module']\n",
      "['we']\n",
      "space to the re space or concept 08 Aug 2023 space moodle\n",
      "welcome to the re module or concept ** Aug **** module moodle\n"
     ]
    }
   ],
   "source": [
    "search8=re.findall(\"module|concept\",txt)\n",
    "# search9=re.findall(\"mo.+ule\",txt)\n",
    "print(search8)\n",
    "search9=re.findall(\"\\Awe\",txt)#sentence starts with we\n",
    "print(search9)\n",
    "\n",
    "rep=re.sub('welcome|module','space',txt)\n",
    "print(rep)\n",
    "repo=re.sub('\\d','*',txt)#replace the digit with *\n",
    "print(repo)\n",
    "\n",
    "\n"
   ]
  },
  {
   "cell_type": "code",
   "execution_count": null,
   "metadata": {},
   "outputs": [],
   "source": []
  }
 ],
 "metadata": {
  "kernelspec": {
   "display_name": "Python 3",
   "language": "python",
   "name": "python3"
  },
  "language_info": {
   "codemirror_mode": {
    "name": "ipython",
    "version": 3
   },
   "file_extension": ".py",
   "mimetype": "text/x-python",
   "name": "python",
   "nbconvert_exporter": "python",
   "pygments_lexer": "ipython3",
   "version": "3.10.8"
  },
  "orig_nbformat": 4
 },
 "nbformat": 4,
 "nbformat_minor": 2
}
